{
  "nbformat": 4,
  "nbformat_minor": 0,
  "metadata": {
    "colab": {
      "provenance": [],
      "gpuType": "T4"
    },
    "kernelspec": {
      "name": "python3",
      "display_name": "Python 3"
    },
    "language_info": {
      "name": "python"
    },
    "accelerator": "GPU"
  },
  "cells": [
    {
      "cell_type": "markdown",
      "source": [
        "# Implementation of Activation Functions"
      ],
      "metadata": {
        "id": "emjy8Yx_1OdI"
      }
    },
    {
      "cell_type": "markdown",
      "source": [
        "# Sigmoid"
      ],
      "metadata": {
        "id": "HzFxh3hN1UJC"
      }
    },
    {
      "cell_type": "code",
      "execution_count": 1,
      "metadata": {
        "id": "HY1BSHxB0ViR"
      },
      "outputs": [],
      "source": [
        "import math\n",
        "def sigmoid(x):\n",
        "  return 1/(1+math.exp(-x))"
      ]
    },
    {
      "cell_type": "code",
      "source": [
        "sigmoid(50)"
      ],
      "metadata": {
        "colab": {
          "base_uri": "https://localhost:8080/"
        },
        "id": "KptzFc-91fum",
        "outputId": "f9963345-3917-4f2d-9b01-d0961a7e3321"
      },
      "execution_count": 2,
      "outputs": [
        {
          "output_type": "execute_result",
          "data": {
            "text/plain": [
              "1.0"
            ]
          },
          "metadata": {},
          "execution_count": 2
        }
      ]
    },
    {
      "cell_type": "code",
      "source": [
        "sigmoid(5000)"
      ],
      "metadata": {
        "colab": {
          "base_uri": "https://localhost:8080/"
        },
        "id": "SJuCWumW1i33",
        "outputId": "fc9ff1ad-fb13-4387-d50a-e5f61ccd2602"
      },
      "execution_count": 3,
      "outputs": [
        {
          "output_type": "execute_result",
          "data": {
            "text/plain": [
              "1.0"
            ]
          },
          "metadata": {},
          "execution_count": 3
        }
      ]
    },
    {
      "cell_type": "code",
      "source": [
        "sigmoid(-500)"
      ],
      "metadata": {
        "colab": {
          "base_uri": "https://localhost:8080/"
        },
        "id": "9Wy4oSMb1i7U",
        "outputId": "fd66c602-9106-4d52-c34b-2cffefff72aa"
      },
      "execution_count": 4,
      "outputs": [
        {
          "output_type": "execute_result",
          "data": {
            "text/plain": [
              "7.124576406741285e-218"
            ]
          },
          "metadata": {},
          "execution_count": 4
        }
      ]
    },
    {
      "cell_type": "code",
      "source": [
        "sigmoid(0.5)"
      ],
      "metadata": {
        "colab": {
          "base_uri": "https://localhost:8080/"
        },
        "id": "jJGbB6av1i-0",
        "outputId": "ad12bafa-8597-4d10-e80f-2e87fc9920c7"
      },
      "execution_count": 5,
      "outputs": [
        {
          "output_type": "execute_result",
          "data": {
            "text/plain": [
              "0.6224593312018546"
            ]
          },
          "metadata": {},
          "execution_count": 5
        }
      ]
    },
    {
      "cell_type": "markdown",
      "source": [
        "# tanh"
      ],
      "metadata": {
        "id": "AafEfMjx11Mi"
      }
    },
    {
      "cell_type": "code",
      "source": [
        "def tanh(x):\n",
        "  return (math.exp(x) - math.exp(-x))/(math.exp(x)+math.exp(-x))"
      ],
      "metadata": {
        "id": "tXelPJC_1jCN"
      },
      "execution_count": 6,
      "outputs": []
    },
    {
      "cell_type": "code",
      "source": [
        "tanh(100)"
      ],
      "metadata": {
        "colab": {
          "base_uri": "https://localhost:8080/"
        },
        "id": "csaLwFxe2C6W",
        "outputId": "edf244e6-444a-4620-d9ea-3d32bb9631bd"
      },
      "execution_count": 7,
      "outputs": [
        {
          "output_type": "execute_result",
          "data": {
            "text/plain": [
              "1.0"
            ]
          },
          "metadata": {},
          "execution_count": 7
        }
      ]
    },
    {
      "cell_type": "code",
      "source": [
        "tanh(-100)"
      ],
      "metadata": {
        "colab": {
          "base_uri": "https://localhost:8080/"
        },
        "id": "k-TeztRt1jFh",
        "outputId": "d2ee7068-b43d-4e90-de37-25cb6496d9d9"
      },
      "execution_count": 8,
      "outputs": [
        {
          "output_type": "execute_result",
          "data": {
            "text/plain": [
              "-1.0"
            ]
          },
          "metadata": {},
          "execution_count": 8
        }
      ]
    },
    {
      "cell_type": "code",
      "source": [
        "tanh(1)"
      ],
      "metadata": {
        "colab": {
          "base_uri": "https://localhost:8080/"
        },
        "id": "esTOurW41jJQ",
        "outputId": "6222ffe2-17a7-4241-e88e-778d41550ba8"
      },
      "execution_count": 9,
      "outputs": [
        {
          "output_type": "execute_result",
          "data": {
            "text/plain": [
              "0.7615941559557649"
            ]
          },
          "metadata": {},
          "execution_count": 9
        }
      ]
    },
    {
      "cell_type": "markdown",
      "source": [
        "# ReLU"
      ],
      "metadata": {
        "id": "YPSUA3Ii2Qx9"
      }
    },
    {
      "cell_type": "code",
      "source": [
        "def relu(x):\n",
        "  return max(0, x)"
      ],
      "metadata": {
        "id": "L56araYz1jMp"
      },
      "execution_count": 10,
      "outputs": []
    },
    {
      "cell_type": "code",
      "source": [
        "relu(500)"
      ],
      "metadata": {
        "colab": {
          "base_uri": "https://localhost:8080/"
        },
        "id": "CsuDVxWl2YtO",
        "outputId": "c5224ed0-8d02-4f62-f071-c31e9d3d4f3a"
      },
      "execution_count": 11,
      "outputs": [
        {
          "output_type": "execute_result",
          "data": {
            "text/plain": [
              "500"
            ]
          },
          "metadata": {},
          "execution_count": 11
        }
      ]
    },
    {
      "cell_type": "code",
      "source": [
        "relu(-500)"
      ],
      "metadata": {
        "colab": {
          "base_uri": "https://localhost:8080/"
        },
        "id": "LHIvBNKV2Lel",
        "outputId": "ec05d80d-35ff-476b-aaa8-804f003b0dcc"
      },
      "execution_count": 12,
      "outputs": [
        {
          "output_type": "execute_result",
          "data": {
            "text/plain": [
              "0"
            ]
          },
          "metadata": {},
          "execution_count": 12
        }
      ]
    },
    {
      "cell_type": "markdown",
      "source": [
        "# LeakyRelu"
      ],
      "metadata": {
        "id": "cmpmf3se2gOp"
      }
    },
    {
      "cell_type": "code",
      "source": [
        "def leaky_relu(x):\n",
        "  return max(0.01*x, x)"
      ],
      "metadata": {
        "id": "-u92JgGq2LiQ"
      },
      "execution_count": 13,
      "outputs": []
    },
    {
      "cell_type": "code",
      "source": [
        "leaky_relu(-500)"
      ],
      "metadata": {
        "colab": {
          "base_uri": "https://localhost:8080/"
        },
        "id": "Xk8cm1xH2nZ5",
        "outputId": "dd424f81-6221-418d-a49b-af992333c3ed"
      },
      "execution_count": 14,
      "outputs": [
        {
          "output_type": "execute_result",
          "data": {
            "text/plain": [
              "-5.0"
            ]
          },
          "metadata": {},
          "execution_count": 14
        }
      ]
    },
    {
      "cell_type": "code",
      "source": [
        "leaky_relu(-5)"
      ],
      "metadata": {
        "colab": {
          "base_uri": "https://localhost:8080/"
        },
        "id": "slInmmK32LlW",
        "outputId": "4752aa90-b838-4be9-b9f2-70fabaec9453"
      },
      "execution_count": 15,
      "outputs": [
        {
          "output_type": "execute_result",
          "data": {
            "text/plain": [
              "-0.05"
            ]
          },
          "metadata": {},
          "execution_count": 15
        }
      ]
    },
    {
      "cell_type": "code",
      "source": [
        "leaky_relu(500)"
      ],
      "metadata": {
        "colab": {
          "base_uri": "https://localhost:8080/"
        },
        "id": "sp2hIaTe2Lou",
        "outputId": "8929630b-b24f-4b22-c021-4646407b7bfa"
      },
      "execution_count": 16,
      "outputs": [
        {
          "output_type": "execute_result",
          "data": {
            "text/plain": [
              "500"
            ]
          },
          "metadata": {},
          "execution_count": 16
        }
      ]
    },
    {
      "cell_type": "markdown",
      "source": [
        "# Linear"
      ],
      "metadata": {
        "id": "twdkflWH2yHW"
      }
    },
    {
      "cell_type": "code",
      "source": [
        "def linear(x):\n",
        "  return x"
      ],
      "metadata": {
        "id": "N_8_5IY-2Lrf"
      },
      "execution_count": 17,
      "outputs": []
    },
    {
      "cell_type": "code",
      "source": [
        "linear(500)"
      ],
      "metadata": {
        "colab": {
          "base_uri": "https://localhost:8080/"
        },
        "id": "_Ht9b2FD232W",
        "outputId": "a0956045-3230-482d-889a-9a7679b75284"
      },
      "execution_count": 18,
      "outputs": [
        {
          "output_type": "execute_result",
          "data": {
            "text/plain": [
              "500"
            ]
          },
          "metadata": {},
          "execution_count": 18
        }
      ]
    },
    {
      "cell_type": "code",
      "source": [
        "linear(-500)"
      ],
      "metadata": {
        "colab": {
          "base_uri": "https://localhost:8080/"
        },
        "id": "pAk66a_I235y",
        "outputId": "9721929e-b943-4e94-c0ff-be2100604ce1"
      },
      "execution_count": 19,
      "outputs": [
        {
          "output_type": "execute_result",
          "data": {
            "text/plain": [
              "-500"
            ]
          },
          "metadata": {},
          "execution_count": 19
        }
      ]
    },
    {
      "cell_type": "markdown",
      "source": [
        "# Project - Loan Application MLP Model"
      ],
      "metadata": {
        "id": "gLOH7Yuj3kIF"
      }
    },
    {
      "cell_type": "markdown",
      "source": [
        "# Data Preparation and pre-processing"
      ],
      "metadata": {
        "id": "Mg3uAzqS3riO"
      }
    },
    {
      "cell_type": "code",
      "source": [
        "import os\n",
        "import numpy as np\n",
        "import pandas as pd"
      ],
      "metadata": {
        "id": "yLrnNQx6238d"
      },
      "execution_count": 20,
      "outputs": []
    },
    {
      "cell_type": "code",
      "source": [
        "train_ds = pd.read_excel('/content/Loan_Application.xlsx')\n",
        "train_ds.head()"
      ],
      "metadata": {
        "colab": {
          "base_uri": "https://localhost:8080/",
          "height": 255
        },
        "id": "EyZmcuiQ24Az",
        "outputId": "6459b8a6-0519-4e38-c193-c72448b9a17b"
      },
      "execution_count": 21,
      "outputs": [
        {
          "output_type": "execute_result",
          "data": {
            "text/plain": [
              "   ID  Decision  Selfcon_Code  Tier_1  Tier_2  AccoClass  LoanType  Gender  \\\n",
              "0   1         0             1       0       0          0         1       0   \n",
              "1   2         0             1       0       0          0         1       0   \n",
              "2   3         1             1       0       0          0         0       0   \n",
              "3   4         1             1       0       0          1         1       0   \n",
              "4   5         1             1       0       0          0         1       0   \n",
              "\n",
              "   Etype  Doc_pf  ...  Term  Dwnpay  BankSave       CalcEmi        IIR  \\\n",
              "0      1       0  ...    84  300000         0   4087.159912   7.999922   \n",
              "1      0       1  ...   180  130000         0   4924.810059  21.999509   \n",
              "2      1       1  ...    84  557000         0  11712.969727  36.000030   \n",
              "3      1       1  ...   180  666500         0  15390.040039  36.999736   \n",
              "4      1       1  ...   180  151000         0  15390.040039  40.999654   \n",
              "\n",
              "         IAR       FOIR        LTV   LVR  dwnp_prop_p  \n",
              "0  11.000000  22.300176  40.000000  40.0    60.000000  \n",
              "1  38.999129  32.858975  71.000036  71.0    28.888889  \n",
              "2  56.000047  36.000030  17.999999  47.0    52.696310  \n",
              "3  52.999656  36.999736  56.000009  60.0    39.993999  \n",
              "4  57.000148  40.999654  51.000008  87.0    13.119027  \n",
              "\n",
              "[5 rows x 38 columns]"
            ],
            "text/html": [
              "\n",
              "  <div id=\"df-50f131a3-1bff-4dfd-bfbf-ffff4ac7578d\" class=\"colab-df-container\">\n",
              "    <div>\n",
              "<style scoped>\n",
              "    .dataframe tbody tr th:only-of-type {\n",
              "        vertical-align: middle;\n",
              "    }\n",
              "\n",
              "    .dataframe tbody tr th {\n",
              "        vertical-align: top;\n",
              "    }\n",
              "\n",
              "    .dataframe thead th {\n",
              "        text-align: right;\n",
              "    }\n",
              "</style>\n",
              "<table border=\"1\" class=\"dataframe\">\n",
              "  <thead>\n",
              "    <tr style=\"text-align: right;\">\n",
              "      <th></th>\n",
              "      <th>ID</th>\n",
              "      <th>Decision</th>\n",
              "      <th>Selfcon_Code</th>\n",
              "      <th>Tier_1</th>\n",
              "      <th>Tier_2</th>\n",
              "      <th>AccoClass</th>\n",
              "      <th>LoanType</th>\n",
              "      <th>Gender</th>\n",
              "      <th>Etype</th>\n",
              "      <th>Doc_pf</th>\n",
              "      <th>...</th>\n",
              "      <th>Term</th>\n",
              "      <th>Dwnpay</th>\n",
              "      <th>BankSave</th>\n",
              "      <th>CalcEmi</th>\n",
              "      <th>IIR</th>\n",
              "      <th>IAR</th>\n",
              "      <th>FOIR</th>\n",
              "      <th>LTV</th>\n",
              "      <th>LVR</th>\n",
              "      <th>dwnp_prop_p</th>\n",
              "    </tr>\n",
              "  </thead>\n",
              "  <tbody>\n",
              "    <tr>\n",
              "      <th>0</th>\n",
              "      <td>1</td>\n",
              "      <td>0</td>\n",
              "      <td>1</td>\n",
              "      <td>0</td>\n",
              "      <td>0</td>\n",
              "      <td>0</td>\n",
              "      <td>1</td>\n",
              "      <td>0</td>\n",
              "      <td>1</td>\n",
              "      <td>0</td>\n",
              "      <td>...</td>\n",
              "      <td>84</td>\n",
              "      <td>300000</td>\n",
              "      <td>0</td>\n",
              "      <td>4087.159912</td>\n",
              "      <td>7.999922</td>\n",
              "      <td>11.000000</td>\n",
              "      <td>22.300176</td>\n",
              "      <td>40.000000</td>\n",
              "      <td>40.0</td>\n",
              "      <td>60.000000</td>\n",
              "    </tr>\n",
              "    <tr>\n",
              "      <th>1</th>\n",
              "      <td>2</td>\n",
              "      <td>0</td>\n",
              "      <td>1</td>\n",
              "      <td>0</td>\n",
              "      <td>0</td>\n",
              "      <td>0</td>\n",
              "      <td>1</td>\n",
              "      <td>0</td>\n",
              "      <td>0</td>\n",
              "      <td>1</td>\n",
              "      <td>...</td>\n",
              "      <td>180</td>\n",
              "      <td>130000</td>\n",
              "      <td>0</td>\n",
              "      <td>4924.810059</td>\n",
              "      <td>21.999509</td>\n",
              "      <td>38.999129</td>\n",
              "      <td>32.858975</td>\n",
              "      <td>71.000036</td>\n",
              "      <td>71.0</td>\n",
              "      <td>28.888889</td>\n",
              "    </tr>\n",
              "    <tr>\n",
              "      <th>2</th>\n",
              "      <td>3</td>\n",
              "      <td>1</td>\n",
              "      <td>1</td>\n",
              "      <td>0</td>\n",
              "      <td>0</td>\n",
              "      <td>0</td>\n",
              "      <td>0</td>\n",
              "      <td>0</td>\n",
              "      <td>1</td>\n",
              "      <td>1</td>\n",
              "      <td>...</td>\n",
              "      <td>84</td>\n",
              "      <td>557000</td>\n",
              "      <td>0</td>\n",
              "      <td>11712.969727</td>\n",
              "      <td>36.000030</td>\n",
              "      <td>56.000047</td>\n",
              "      <td>36.000030</td>\n",
              "      <td>17.999999</td>\n",
              "      <td>47.0</td>\n",
              "      <td>52.696310</td>\n",
              "    </tr>\n",
              "    <tr>\n",
              "      <th>3</th>\n",
              "      <td>4</td>\n",
              "      <td>1</td>\n",
              "      <td>1</td>\n",
              "      <td>0</td>\n",
              "      <td>0</td>\n",
              "      <td>1</td>\n",
              "      <td>1</td>\n",
              "      <td>0</td>\n",
              "      <td>1</td>\n",
              "      <td>1</td>\n",
              "      <td>...</td>\n",
              "      <td>180</td>\n",
              "      <td>666500</td>\n",
              "      <td>0</td>\n",
              "      <td>15390.040039</td>\n",
              "      <td>36.999736</td>\n",
              "      <td>52.999656</td>\n",
              "      <td>36.999736</td>\n",
              "      <td>56.000009</td>\n",
              "      <td>60.0</td>\n",
              "      <td>39.993999</td>\n",
              "    </tr>\n",
              "    <tr>\n",
              "      <th>4</th>\n",
              "      <td>5</td>\n",
              "      <td>1</td>\n",
              "      <td>1</td>\n",
              "      <td>0</td>\n",
              "      <td>0</td>\n",
              "      <td>0</td>\n",
              "      <td>1</td>\n",
              "      <td>0</td>\n",
              "      <td>1</td>\n",
              "      <td>1</td>\n",
              "      <td>...</td>\n",
              "      <td>180</td>\n",
              "      <td>151000</td>\n",
              "      <td>0</td>\n",
              "      <td>15390.040039</td>\n",
              "      <td>40.999654</td>\n",
              "      <td>57.000148</td>\n",
              "      <td>40.999654</td>\n",
              "      <td>51.000008</td>\n",
              "      <td>87.0</td>\n",
              "      <td>13.119027</td>\n",
              "    </tr>\n",
              "  </tbody>\n",
              "</table>\n",
              "<p>5 rows × 38 columns</p>\n",
              "</div>\n",
              "    <div class=\"colab-df-buttons\">\n",
              "\n",
              "  <div class=\"colab-df-container\">\n",
              "    <button class=\"colab-df-convert\" onclick=\"convertToInteractive('df-50f131a3-1bff-4dfd-bfbf-ffff4ac7578d')\"\n",
              "            title=\"Convert this dataframe to an interactive table.\"\n",
              "            style=\"display:none;\">\n",
              "\n",
              "  <svg xmlns=\"http://www.w3.org/2000/svg\" height=\"24px\" viewBox=\"0 -960 960 960\">\n",
              "    <path d=\"M120-120v-720h720v720H120Zm60-500h600v-160H180v160Zm220 220h160v-160H400v160Zm0 220h160v-160H400v160ZM180-400h160v-160H180v160Zm440 0h160v-160H620v160ZM180-180h160v-160H180v160Zm440 0h160v-160H620v160Z\"/>\n",
              "  </svg>\n",
              "    </button>\n",
              "\n",
              "  <style>\n",
              "    .colab-df-container {\n",
              "      display:flex;\n",
              "      gap: 12px;\n",
              "    }\n",
              "\n",
              "    .colab-df-convert {\n",
              "      background-color: #E8F0FE;\n",
              "      border: none;\n",
              "      border-radius: 50%;\n",
              "      cursor: pointer;\n",
              "      display: none;\n",
              "      fill: #1967D2;\n",
              "      height: 32px;\n",
              "      padding: 0 0 0 0;\n",
              "      width: 32px;\n",
              "    }\n",
              "\n",
              "    .colab-df-convert:hover {\n",
              "      background-color: #E2EBFA;\n",
              "      box-shadow: 0px 1px 2px rgba(60, 64, 67, 0.3), 0px 1px 3px 1px rgba(60, 64, 67, 0.15);\n",
              "      fill: #174EA6;\n",
              "    }\n",
              "\n",
              "    .colab-df-buttons div {\n",
              "      margin-bottom: 4px;\n",
              "    }\n",
              "\n",
              "    [theme=dark] .colab-df-convert {\n",
              "      background-color: #3B4455;\n",
              "      fill: #D2E3FC;\n",
              "    }\n",
              "\n",
              "    [theme=dark] .colab-df-convert:hover {\n",
              "      background-color: #434B5C;\n",
              "      box-shadow: 0px 1px 3px 1px rgba(0, 0, 0, 0.15);\n",
              "      filter: drop-shadow(0px 1px 2px rgba(0, 0, 0, 0.3));\n",
              "      fill: #FFFFFF;\n",
              "    }\n",
              "  </style>\n",
              "\n",
              "    <script>\n",
              "      const buttonEl =\n",
              "        document.querySelector('#df-50f131a3-1bff-4dfd-bfbf-ffff4ac7578d button.colab-df-convert');\n",
              "      buttonEl.style.display =\n",
              "        google.colab.kernel.accessAllowed ? 'block' : 'none';\n",
              "\n",
              "      async function convertToInteractive(key) {\n",
              "        const element = document.querySelector('#df-50f131a3-1bff-4dfd-bfbf-ffff4ac7578d');\n",
              "        const dataTable =\n",
              "          await google.colab.kernel.invokeFunction('convertToInteractive',\n",
              "                                                    [key], {});\n",
              "        if (!dataTable) return;\n",
              "\n",
              "        const docLinkHtml = 'Like what you see? Visit the ' +\n",
              "          '<a target=\"_blank\" href=https://colab.research.google.com/notebooks/data_table.ipynb>data table notebook</a>'\n",
              "          + ' to learn more about interactive tables.';\n",
              "        element.innerHTML = '';\n",
              "        dataTable['output_type'] = 'display_data';\n",
              "        await google.colab.output.renderOutput(dataTable, element);\n",
              "        const docLink = document.createElement('div');\n",
              "        docLink.innerHTML = docLinkHtml;\n",
              "        element.appendChild(docLink);\n",
              "      }\n",
              "    </script>\n",
              "  </div>\n",
              "\n",
              "\n",
              "<div id=\"df-c466655f-3180-4571-90f5-8dfcaa6356ea\">\n",
              "  <button class=\"colab-df-quickchart\" onclick=\"quickchart('df-c466655f-3180-4571-90f5-8dfcaa6356ea')\"\n",
              "            title=\"Suggest charts\"\n",
              "            style=\"display:none;\">\n",
              "\n",
              "<svg xmlns=\"http://www.w3.org/2000/svg\" height=\"24px\"viewBox=\"0 0 24 24\"\n",
              "     width=\"24px\">\n",
              "    <g>\n",
              "        <path d=\"M19 3H5c-1.1 0-2 .9-2 2v14c0 1.1.9 2 2 2h14c1.1 0 2-.9 2-2V5c0-1.1-.9-2-2-2zM9 17H7v-7h2v7zm4 0h-2V7h2v10zm4 0h-2v-4h2v4z\"/>\n",
              "    </g>\n",
              "</svg>\n",
              "  </button>\n",
              "\n",
              "<style>\n",
              "  .colab-df-quickchart {\n",
              "      --bg-color: #E8F0FE;\n",
              "      --fill-color: #1967D2;\n",
              "      --hover-bg-color: #E2EBFA;\n",
              "      --hover-fill-color: #174EA6;\n",
              "      --disabled-fill-color: #AAA;\n",
              "      --disabled-bg-color: #DDD;\n",
              "  }\n",
              "\n",
              "  [theme=dark] .colab-df-quickchart {\n",
              "      --bg-color: #3B4455;\n",
              "      --fill-color: #D2E3FC;\n",
              "      --hover-bg-color: #434B5C;\n",
              "      --hover-fill-color: #FFFFFF;\n",
              "      --disabled-bg-color: #3B4455;\n",
              "      --disabled-fill-color: #666;\n",
              "  }\n",
              "\n",
              "  .colab-df-quickchart {\n",
              "    background-color: var(--bg-color);\n",
              "    border: none;\n",
              "    border-radius: 50%;\n",
              "    cursor: pointer;\n",
              "    display: none;\n",
              "    fill: var(--fill-color);\n",
              "    height: 32px;\n",
              "    padding: 0;\n",
              "    width: 32px;\n",
              "  }\n",
              "\n",
              "  .colab-df-quickchart:hover {\n",
              "    background-color: var(--hover-bg-color);\n",
              "    box-shadow: 0 1px 2px rgba(60, 64, 67, 0.3), 0 1px 3px 1px rgba(60, 64, 67, 0.15);\n",
              "    fill: var(--button-hover-fill-color);\n",
              "  }\n",
              "\n",
              "  .colab-df-quickchart-complete:disabled,\n",
              "  .colab-df-quickchart-complete:disabled:hover {\n",
              "    background-color: var(--disabled-bg-color);\n",
              "    fill: var(--disabled-fill-color);\n",
              "    box-shadow: none;\n",
              "  }\n",
              "\n",
              "  .colab-df-spinner {\n",
              "    border: 2px solid var(--fill-color);\n",
              "    border-color: transparent;\n",
              "    border-bottom-color: var(--fill-color);\n",
              "    animation:\n",
              "      spin 1s steps(1) infinite;\n",
              "  }\n",
              "\n",
              "  @keyframes spin {\n",
              "    0% {\n",
              "      border-color: transparent;\n",
              "      border-bottom-color: var(--fill-color);\n",
              "      border-left-color: var(--fill-color);\n",
              "    }\n",
              "    20% {\n",
              "      border-color: transparent;\n",
              "      border-left-color: var(--fill-color);\n",
              "      border-top-color: var(--fill-color);\n",
              "    }\n",
              "    30% {\n",
              "      border-color: transparent;\n",
              "      border-left-color: var(--fill-color);\n",
              "      border-top-color: var(--fill-color);\n",
              "      border-right-color: var(--fill-color);\n",
              "    }\n",
              "    40% {\n",
              "      border-color: transparent;\n",
              "      border-right-color: var(--fill-color);\n",
              "      border-top-color: var(--fill-color);\n",
              "    }\n",
              "    60% {\n",
              "      border-color: transparent;\n",
              "      border-right-color: var(--fill-color);\n",
              "    }\n",
              "    80% {\n",
              "      border-color: transparent;\n",
              "      border-right-color: var(--fill-color);\n",
              "      border-bottom-color: var(--fill-color);\n",
              "    }\n",
              "    90% {\n",
              "      border-color: transparent;\n",
              "      border-bottom-color: var(--fill-color);\n",
              "    }\n",
              "  }\n",
              "</style>\n",
              "\n",
              "  <script>\n",
              "    async function quickchart(key) {\n",
              "      const quickchartButtonEl =\n",
              "        document.querySelector('#' + key + ' button');\n",
              "      quickchartButtonEl.disabled = true;  // To prevent multiple clicks.\n",
              "      quickchartButtonEl.classList.add('colab-df-spinner');\n",
              "      try {\n",
              "        const charts = await google.colab.kernel.invokeFunction(\n",
              "            'suggestCharts', [key], {});\n",
              "      } catch (error) {\n",
              "        console.error('Error during call to suggestCharts:', error);\n",
              "      }\n",
              "      quickchartButtonEl.classList.remove('colab-df-spinner');\n",
              "      quickchartButtonEl.classList.add('colab-df-quickchart-complete');\n",
              "    }\n",
              "    (() => {\n",
              "      let quickchartButtonEl =\n",
              "        document.querySelector('#df-c466655f-3180-4571-90f5-8dfcaa6356ea button');\n",
              "      quickchartButtonEl.style.display =\n",
              "        google.colab.kernel.accessAllowed ? 'block' : 'none';\n",
              "    })();\n",
              "  </script>\n",
              "</div>\n",
              "\n",
              "    </div>\n",
              "  </div>\n"
            ]
          },
          "metadata": {},
          "execution_count": 21
        }
      ]
    },
    {
      "cell_type": "code",
      "source": [
        "train_ds.info()"
      ],
      "metadata": {
        "colab": {
          "base_uri": "https://localhost:8080/"
        },
        "id": "KzD-nx-93_pC",
        "outputId": "8132b662-44da-42de-a011-2666892ab27b"
      },
      "execution_count": 22,
      "outputs": [
        {
          "output_type": "stream",
          "name": "stdout",
          "text": [
            "<class 'pandas.core.frame.DataFrame'>\n",
            "RangeIndex: 1570 entries, 0 to 1569\n",
            "Data columns (total 38 columns):\n",
            " #   Column        Non-Null Count  Dtype  \n",
            "---  ------        --------------  -----  \n",
            " 0   ID            1570 non-null   int64  \n",
            " 1   Decision      1570 non-null   int64  \n",
            " 2   Selfcon_Code  1570 non-null   int64  \n",
            " 3   Tier_1        1570 non-null   int64  \n",
            " 4   Tier_2        1570 non-null   int64  \n",
            " 5   AccoClass     1570 non-null   int64  \n",
            " 6   LoanType      1570 non-null   int64  \n",
            " 7   Gender        1570 non-null   int64  \n",
            " 8   Etype         1570 non-null   int64  \n",
            " 9   Doc_pf        1570 non-null   int64  \n",
            " 10  Marstat       1570 non-null   int64  \n",
            " 11  Emp_Type_1    1570 non-null   int64  \n",
            " 12  Emp_Type_2    1570 non-null   int64  \n",
            " 13  Emp_Type_3    1570 non-null   int64  \n",
            " 14  Educlass_2    1570 non-null   int64  \n",
            " 15  Educlass_1    1570 non-null   int64  \n",
            " 16  Oriclass_1    1570 non-null   int64  \n",
            " 17  Oriclass_2    1570 non-null   int64  \n",
            " 18  eom_25        1570 non-null   int64  \n",
            " 19  OldEmi_d      1570 non-null   int64  \n",
            " 20  BankSave_d    1570 non-null   int64  \n",
            " 21  Age           1570 non-null   int64  \n",
            " 22  YrsAdd        1570 non-null   int64  \n",
            " 23  YrsJob        1570 non-null   int64  \n",
            " 24  DispInc       1570 non-null   int64  \n",
            " 25  MarVal        1570 non-null   int64  \n",
            " 26  OldEmi        1570 non-null   int64  \n",
            " 27  LoanReq       1570 non-null   int64  \n",
            " 28  Term          1570 non-null   int64  \n",
            " 29  Dwnpay        1570 non-null   int64  \n",
            " 30  BankSave      1570 non-null   int64  \n",
            " 31  CalcEmi       1570 non-null   float64\n",
            " 32  IIR           1570 non-null   float64\n",
            " 33  IAR           1570 non-null   float64\n",
            " 34  FOIR          1570 non-null   float64\n",
            " 35  LTV           1570 non-null   float64\n",
            " 36  LVR           1570 non-null   float64\n",
            " 37  dwnp_prop_p   1570 non-null   float64\n",
            "dtypes: float64(7), int64(31)\n",
            "memory usage: 466.2 KB\n"
          ]
        }
      ]
    },
    {
      "cell_type": "code",
      "source": [
        "# Setting up Independent and Dependent variable\n",
        "x = train_ds.iloc[:,2:]\n",
        "y = train_ds.iloc[:,1] # Dep variable - \"Decision\""
      ],
      "metadata": {
        "id": "345scQ2D4F9-"
      },
      "execution_count": 23,
      "outputs": []
    },
    {
      "cell_type": "code",
      "source": [
        "y.value_counts()"
      ],
      "metadata": {
        "colab": {
          "base_uri": "https://localhost:8080/"
        },
        "id": "KS_Lf3325p8A",
        "outputId": "61cf6211-0c2c-4bde-d0a1-dec596e30382"
      },
      "execution_count": 24,
      "outputs": [
        {
          "output_type": "execute_result",
          "data": {
            "text/plain": [
              "1    1255\n",
              "0     315\n",
              "Name: Decision, dtype: int64"
            ]
          },
          "metadata": {},
          "execution_count": 24
        }
      ]
    },
    {
      "cell_type": "markdown",
      "source": [
        "The provided code sets up independent variables x (all columns except the first two) and the dependent variable y ('Decision') from the train_ds DataFrame. The output shows an imbalance in the 'Decision' column, with 1255 instances of '1' and 315 instances of '0'. This suggests a potential bias in the dataset towards one outcome, highlighting the need for careful consideration in model training to address this imbalance."
      ],
      "metadata": {
        "id": "Mfka5gTs0mjJ"
      }
    },
    {
      "cell_type": "code",
      "source": [
        "315/(1255+315)*100"
      ],
      "metadata": {
        "colab": {
          "base_uri": "https://localhost:8080/"
        },
        "id": "KBThrAci6pnH",
        "outputId": "ca9744a8-c358-4f11-85bc-ef2e77e34679"
      },
      "execution_count": 25,
      "outputs": [
        {
          "output_type": "execute_result",
          "data": {
            "text/plain": [
              "20.063694267515924"
            ]
          },
          "metadata": {},
          "execution_count": 25
        }
      ]
    },
    {
      "cell_type": "markdown",
      "source": [
        "The calculation reveals that the minority class '0' in the 'Decision' column constitutes approximately 20.06% of the dataset. This percentage further underscores the imbalance in the dataset, emphasizing the importance of using appropriate strategies for handling imbalanced data in any predictive modeling or analysis."
      ],
      "metadata": {
        "id": "vGYxnBic1OgP"
      }
    },
    {
      "cell_type": "code",
      "source": [
        "x.head(2)"
      ],
      "metadata": {
        "colab": {
          "base_uri": "https://localhost:8080/",
          "height": 161
        },
        "id": "s_aVLhQq24EK",
        "outputId": "461cddae-cc51-4c88-c998-d5e07a74f246"
      },
      "execution_count": 26,
      "outputs": [
        {
          "output_type": "execute_result",
          "data": {
            "text/plain": [
              "   Selfcon_Code  Tier_1  Tier_2  AccoClass  LoanType  Gender  Etype  Doc_pf  \\\n",
              "0             1       0       0          0         1       0      1       0   \n",
              "1             1       0       0          0         1       0      0       1   \n",
              "\n",
              "   Marstat  Emp_Type_1  ...  Term  Dwnpay  BankSave      CalcEmi        IIR  \\\n",
              "0        1           1  ...    84  300000         0  4087.159912   7.999922   \n",
              "1        1           0  ...   180  130000         0  4924.810059  21.999509   \n",
              "\n",
              "         IAR       FOIR        LTV   LVR  dwnp_prop_p  \n",
              "0  11.000000  22.300176  40.000000  40.0    60.000000  \n",
              "1  38.999129  32.858975  71.000036  71.0    28.888889  \n",
              "\n",
              "[2 rows x 36 columns]"
            ],
            "text/html": [
              "\n",
              "  <div id=\"df-9c1f56bf-a27b-4f4d-8937-ad0413d2ed6a\" class=\"colab-df-container\">\n",
              "    <div>\n",
              "<style scoped>\n",
              "    .dataframe tbody tr th:only-of-type {\n",
              "        vertical-align: middle;\n",
              "    }\n",
              "\n",
              "    .dataframe tbody tr th {\n",
              "        vertical-align: top;\n",
              "    }\n",
              "\n",
              "    .dataframe thead th {\n",
              "        text-align: right;\n",
              "    }\n",
              "</style>\n",
              "<table border=\"1\" class=\"dataframe\">\n",
              "  <thead>\n",
              "    <tr style=\"text-align: right;\">\n",
              "      <th></th>\n",
              "      <th>Selfcon_Code</th>\n",
              "      <th>Tier_1</th>\n",
              "      <th>Tier_2</th>\n",
              "      <th>AccoClass</th>\n",
              "      <th>LoanType</th>\n",
              "      <th>Gender</th>\n",
              "      <th>Etype</th>\n",
              "      <th>Doc_pf</th>\n",
              "      <th>Marstat</th>\n",
              "      <th>Emp_Type_1</th>\n",
              "      <th>...</th>\n",
              "      <th>Term</th>\n",
              "      <th>Dwnpay</th>\n",
              "      <th>BankSave</th>\n",
              "      <th>CalcEmi</th>\n",
              "      <th>IIR</th>\n",
              "      <th>IAR</th>\n",
              "      <th>FOIR</th>\n",
              "      <th>LTV</th>\n",
              "      <th>LVR</th>\n",
              "      <th>dwnp_prop_p</th>\n",
              "    </tr>\n",
              "  </thead>\n",
              "  <tbody>\n",
              "    <tr>\n",
              "      <th>0</th>\n",
              "      <td>1</td>\n",
              "      <td>0</td>\n",
              "      <td>0</td>\n",
              "      <td>0</td>\n",
              "      <td>1</td>\n",
              "      <td>0</td>\n",
              "      <td>1</td>\n",
              "      <td>0</td>\n",
              "      <td>1</td>\n",
              "      <td>1</td>\n",
              "      <td>...</td>\n",
              "      <td>84</td>\n",
              "      <td>300000</td>\n",
              "      <td>0</td>\n",
              "      <td>4087.159912</td>\n",
              "      <td>7.999922</td>\n",
              "      <td>11.000000</td>\n",
              "      <td>22.300176</td>\n",
              "      <td>40.000000</td>\n",
              "      <td>40.0</td>\n",
              "      <td>60.000000</td>\n",
              "    </tr>\n",
              "    <tr>\n",
              "      <th>1</th>\n",
              "      <td>1</td>\n",
              "      <td>0</td>\n",
              "      <td>0</td>\n",
              "      <td>0</td>\n",
              "      <td>1</td>\n",
              "      <td>0</td>\n",
              "      <td>0</td>\n",
              "      <td>1</td>\n",
              "      <td>1</td>\n",
              "      <td>0</td>\n",
              "      <td>...</td>\n",
              "      <td>180</td>\n",
              "      <td>130000</td>\n",
              "      <td>0</td>\n",
              "      <td>4924.810059</td>\n",
              "      <td>21.999509</td>\n",
              "      <td>38.999129</td>\n",
              "      <td>32.858975</td>\n",
              "      <td>71.000036</td>\n",
              "      <td>71.0</td>\n",
              "      <td>28.888889</td>\n",
              "    </tr>\n",
              "  </tbody>\n",
              "</table>\n",
              "<p>2 rows × 36 columns</p>\n",
              "</div>\n",
              "    <div class=\"colab-df-buttons\">\n",
              "\n",
              "  <div class=\"colab-df-container\">\n",
              "    <button class=\"colab-df-convert\" onclick=\"convertToInteractive('df-9c1f56bf-a27b-4f4d-8937-ad0413d2ed6a')\"\n",
              "            title=\"Convert this dataframe to an interactive table.\"\n",
              "            style=\"display:none;\">\n",
              "\n",
              "  <svg xmlns=\"http://www.w3.org/2000/svg\" height=\"24px\" viewBox=\"0 -960 960 960\">\n",
              "    <path d=\"M120-120v-720h720v720H120Zm60-500h600v-160H180v160Zm220 220h160v-160H400v160Zm0 220h160v-160H400v160ZM180-400h160v-160H180v160Zm440 0h160v-160H620v160ZM180-180h160v-160H180v160Zm440 0h160v-160H620v160Z\"/>\n",
              "  </svg>\n",
              "    </button>\n",
              "\n",
              "  <style>\n",
              "    .colab-df-container {\n",
              "      display:flex;\n",
              "      gap: 12px;\n",
              "    }\n",
              "\n",
              "    .colab-df-convert {\n",
              "      background-color: #E8F0FE;\n",
              "      border: none;\n",
              "      border-radius: 50%;\n",
              "      cursor: pointer;\n",
              "      display: none;\n",
              "      fill: #1967D2;\n",
              "      height: 32px;\n",
              "      padding: 0 0 0 0;\n",
              "      width: 32px;\n",
              "    }\n",
              "\n",
              "    .colab-df-convert:hover {\n",
              "      background-color: #E2EBFA;\n",
              "      box-shadow: 0px 1px 2px rgba(60, 64, 67, 0.3), 0px 1px 3px 1px rgba(60, 64, 67, 0.15);\n",
              "      fill: #174EA6;\n",
              "    }\n",
              "\n",
              "    .colab-df-buttons div {\n",
              "      margin-bottom: 4px;\n",
              "    }\n",
              "\n",
              "    [theme=dark] .colab-df-convert {\n",
              "      background-color: #3B4455;\n",
              "      fill: #D2E3FC;\n",
              "    }\n",
              "\n",
              "    [theme=dark] .colab-df-convert:hover {\n",
              "      background-color: #434B5C;\n",
              "      box-shadow: 0px 1px 3px 1px rgba(0, 0, 0, 0.15);\n",
              "      filter: drop-shadow(0px 1px 2px rgba(0, 0, 0, 0.3));\n",
              "      fill: #FFFFFF;\n",
              "    }\n",
              "  </style>\n",
              "\n",
              "    <script>\n",
              "      const buttonEl =\n",
              "        document.querySelector('#df-9c1f56bf-a27b-4f4d-8937-ad0413d2ed6a button.colab-df-convert');\n",
              "      buttonEl.style.display =\n",
              "        google.colab.kernel.accessAllowed ? 'block' : 'none';\n",
              "\n",
              "      async function convertToInteractive(key) {\n",
              "        const element = document.querySelector('#df-9c1f56bf-a27b-4f4d-8937-ad0413d2ed6a');\n",
              "        const dataTable =\n",
              "          await google.colab.kernel.invokeFunction('convertToInteractive',\n",
              "                                                    [key], {});\n",
              "        if (!dataTable) return;\n",
              "\n",
              "        const docLinkHtml = 'Like what you see? Visit the ' +\n",
              "          '<a target=\"_blank\" href=https://colab.research.google.com/notebooks/data_table.ipynb>data table notebook</a>'\n",
              "          + ' to learn more about interactive tables.';\n",
              "        element.innerHTML = '';\n",
              "        dataTable['output_type'] = 'display_data';\n",
              "        await google.colab.output.renderOutput(dataTable, element);\n",
              "        const docLink = document.createElement('div');\n",
              "        docLink.innerHTML = docLinkHtml;\n",
              "        element.appendChild(docLink);\n",
              "      }\n",
              "    </script>\n",
              "  </div>\n",
              "\n",
              "\n",
              "<div id=\"df-7e1d5179-4156-47d0-a82d-f9c838215c1c\">\n",
              "  <button class=\"colab-df-quickchart\" onclick=\"quickchart('df-7e1d5179-4156-47d0-a82d-f9c838215c1c')\"\n",
              "            title=\"Suggest charts\"\n",
              "            style=\"display:none;\">\n",
              "\n",
              "<svg xmlns=\"http://www.w3.org/2000/svg\" height=\"24px\"viewBox=\"0 0 24 24\"\n",
              "     width=\"24px\">\n",
              "    <g>\n",
              "        <path d=\"M19 3H5c-1.1 0-2 .9-2 2v14c0 1.1.9 2 2 2h14c1.1 0 2-.9 2-2V5c0-1.1-.9-2-2-2zM9 17H7v-7h2v7zm4 0h-2V7h2v10zm4 0h-2v-4h2v4z\"/>\n",
              "    </g>\n",
              "</svg>\n",
              "  </button>\n",
              "\n",
              "<style>\n",
              "  .colab-df-quickchart {\n",
              "      --bg-color: #E8F0FE;\n",
              "      --fill-color: #1967D2;\n",
              "      --hover-bg-color: #E2EBFA;\n",
              "      --hover-fill-color: #174EA6;\n",
              "      --disabled-fill-color: #AAA;\n",
              "      --disabled-bg-color: #DDD;\n",
              "  }\n",
              "\n",
              "  [theme=dark] .colab-df-quickchart {\n",
              "      --bg-color: #3B4455;\n",
              "      --fill-color: #D2E3FC;\n",
              "      --hover-bg-color: #434B5C;\n",
              "      --hover-fill-color: #FFFFFF;\n",
              "      --disabled-bg-color: #3B4455;\n",
              "      --disabled-fill-color: #666;\n",
              "  }\n",
              "\n",
              "  .colab-df-quickchart {\n",
              "    background-color: var(--bg-color);\n",
              "    border: none;\n",
              "    border-radius: 50%;\n",
              "    cursor: pointer;\n",
              "    display: none;\n",
              "    fill: var(--fill-color);\n",
              "    height: 32px;\n",
              "    padding: 0;\n",
              "    width: 32px;\n",
              "  }\n",
              "\n",
              "  .colab-df-quickchart:hover {\n",
              "    background-color: var(--hover-bg-color);\n",
              "    box-shadow: 0 1px 2px rgba(60, 64, 67, 0.3), 0 1px 3px 1px rgba(60, 64, 67, 0.15);\n",
              "    fill: var(--button-hover-fill-color);\n",
              "  }\n",
              "\n",
              "  .colab-df-quickchart-complete:disabled,\n",
              "  .colab-df-quickchart-complete:disabled:hover {\n",
              "    background-color: var(--disabled-bg-color);\n",
              "    fill: var(--disabled-fill-color);\n",
              "    box-shadow: none;\n",
              "  }\n",
              "\n",
              "  .colab-df-spinner {\n",
              "    border: 2px solid var(--fill-color);\n",
              "    border-color: transparent;\n",
              "    border-bottom-color: var(--fill-color);\n",
              "    animation:\n",
              "      spin 1s steps(1) infinite;\n",
              "  }\n",
              "\n",
              "  @keyframes spin {\n",
              "    0% {\n",
              "      border-color: transparent;\n",
              "      border-bottom-color: var(--fill-color);\n",
              "      border-left-color: var(--fill-color);\n",
              "    }\n",
              "    20% {\n",
              "      border-color: transparent;\n",
              "      border-left-color: var(--fill-color);\n",
              "      border-top-color: var(--fill-color);\n",
              "    }\n",
              "    30% {\n",
              "      border-color: transparent;\n",
              "      border-left-color: var(--fill-color);\n",
              "      border-top-color: var(--fill-color);\n",
              "      border-right-color: var(--fill-color);\n",
              "    }\n",
              "    40% {\n",
              "      border-color: transparent;\n",
              "      border-right-color: var(--fill-color);\n",
              "      border-top-color: var(--fill-color);\n",
              "    }\n",
              "    60% {\n",
              "      border-color: transparent;\n",
              "      border-right-color: var(--fill-color);\n",
              "    }\n",
              "    80% {\n",
              "      border-color: transparent;\n",
              "      border-right-color: var(--fill-color);\n",
              "      border-bottom-color: var(--fill-color);\n",
              "    }\n",
              "    90% {\n",
              "      border-color: transparent;\n",
              "      border-bottom-color: var(--fill-color);\n",
              "    }\n",
              "  }\n",
              "</style>\n",
              "\n",
              "  <script>\n",
              "    async function quickchart(key) {\n",
              "      const quickchartButtonEl =\n",
              "        document.querySelector('#' + key + ' button');\n",
              "      quickchartButtonEl.disabled = true;  // To prevent multiple clicks.\n",
              "      quickchartButtonEl.classList.add('colab-df-spinner');\n",
              "      try {\n",
              "        const charts = await google.colab.kernel.invokeFunction(\n",
              "            'suggestCharts', [key], {});\n",
              "      } catch (error) {\n",
              "        console.error('Error during call to suggestCharts:', error);\n",
              "      }\n",
              "      quickchartButtonEl.classList.remove('colab-df-spinner');\n",
              "      quickchartButtonEl.classList.add('colab-df-quickchart-complete');\n",
              "    }\n",
              "    (() => {\n",
              "      let quickchartButtonEl =\n",
              "        document.querySelector('#df-7e1d5179-4156-47d0-a82d-f9c838215c1c button');\n",
              "      quickchartButtonEl.style.display =\n",
              "        google.colab.kernel.accessAllowed ? 'block' : 'none';\n",
              "    })();\n",
              "  </script>\n",
              "</div>\n",
              "\n",
              "    </div>\n",
              "  </div>\n"
            ]
          },
          "metadata": {},
          "execution_count": 26
        }
      ]
    },
    {
      "cell_type": "markdown",
      "source": [
        "The code snippet displays the first two rows of the independent variables x from the train_ds DataFrame. This subset includes a wide range of variables like 'Selfcon_Code', 'Tier_1', 'Tier_2', 'AccoClass', 'LoanType', 'Gender', 'Etype', 'Doc_pf', 'Marstat', 'Emp_Type_1', and several others, amounting to 36 columns in total. The output provides a glimpse into the diversity and type of data available in the dataset, which includes both categorical and numerical features. This variety in features suggests that the dataset can offer a comprehensive basis for predictive modeling, such as for loan decision analysis. However, careful preprocessing and feature selection might be necessary to optimize model performance."
      ],
      "metadata": {
        "id": "f1UXTdhR1RJr"
      }
    },
    {
      "cell_type": "code",
      "source": [
        "num_inputs = x.shape[1]\n",
        "print(\"Total no of independent variable : {}\".format(num_inputs))"
      ],
      "metadata": {
        "colab": {
          "base_uri": "https://localhost:8080/"
        },
        "id": "XPrhl2jh47nu",
        "outputId": "28f0d382-51f1-4fa6-c09f-0b5dfae711b8"
      },
      "execution_count": 27,
      "outputs": [
        {
          "output_type": "stream",
          "name": "stdout",
          "text": [
            "Total no of independent variable : 36\n"
          ]
        }
      ]
    },
    {
      "cell_type": "markdown",
      "source": [
        "The code snippet calculates the number of independent variables in the DataFrame x and then prints out this number. By using x.shape[1], the snippet determines that there are 36 independent variables in the dataset. This information is crucial for understanding the dimensionality of the dataset, which can impact the choice of machine learning models and the complexity of the analysis. It indicates a moderately high-dimensional feature space, suggesting the need for careful feature selection or dimensionality reduction techniques to improve model performance and avoid overfitting."
      ],
      "metadata": {
        "id": "e6yYhhnE1vHr"
      }
    },
    {
      "cell_type": "code",
      "source": [
        "# Split the dataset into training and test set\n",
        "from sklearn.model_selection import train_test_split\n",
        "x_train, x_valid, y_train, y_valid = train_test_split(x, y, test_size=0.2, random_state=0, stratify=y)"
      ],
      "metadata": {
        "id": "4wxO3Hy75Wo1"
      },
      "execution_count": 28,
      "outputs": []
    },
    {
      "cell_type": "code",
      "source": [
        "x_train.shape"
      ],
      "metadata": {
        "colab": {
          "base_uri": "https://localhost:8080/"
        },
        "id": "B04x1Bjz_ZwA",
        "outputId": "80c64c01-6662-4951-8350-44cf872ef631"
      },
      "execution_count": 29,
      "outputs": [
        {
          "output_type": "execute_result",
          "data": {
            "text/plain": [
              "(1256, 36)"
            ]
          },
          "metadata": {},
          "execution_count": 29
        }
      ]
    },
    {
      "cell_type": "markdown",
      "source": [
        "The code snippet performs a split of the dataset into training and validation sets using train_test_split from sklearn.model_selection. The split is made with 20% of the data reserved for the validation set (test_size=0.2) and the rest for training. The use of stratify=y ensures that the distribution of the 'Decision' variable is similar in both the training and validation sets, which is particularly important given the previously noted imbalance in the dataset.\n",
        "\n",
        "The output, (1256, 36), shows the shape of the x_train dataset, indicating that it contains 1256 instances and 36 features. This split is a critical step in preparing the data for modeling, as it allows for the assessment of the model's performance on unseen data, thus providing insights into its generalization capability."
      ],
      "metadata": {
        "id": "kEoruDiV2lv0"
      }
    },
    {
      "cell_type": "markdown",
      "source": [
        "# Please note - Feature Scaling is Mandatory in Deep Neural Network"
      ],
      "metadata": {
        "id": "g28kclm85-lh"
      }
    },
    {
      "cell_type": "code",
      "source": [
        "from sklearn.preprocessing import StandardScaler\n",
        "sc = StandardScaler()\n",
        "x_train = sc.fit_transform(x_train)\n",
        "x_valid = sc.transform(x_valid)"
      ],
      "metadata": {
        "id": "bXhvqYAv5fRZ"
      },
      "execution_count": 30,
      "outputs": []
    },
    {
      "cell_type": "code",
      "source": [
        "pd.DataFrame(x_train).head()"
      ],
      "metadata": {
        "colab": {
          "base_uri": "https://localhost:8080/",
          "height": 255
        },
        "id": "KtF0VZYW7FJF",
        "outputId": "ad159a33-4fc8-4688-99cc-03be1d89c6c9"
      },
      "execution_count": 31,
      "outputs": [
        {
          "output_type": "execute_result",
          "data": {
            "text/plain": [
              "         0         1         2         3         4         5         6   \\\n",
              "0  0.192768 -0.696156 -0.761495 -0.970189  0.277825 -0.305163  0.921835   \n",
              "1  0.192768 -0.696156  1.313207 -0.970189  0.277825 -0.305163 -1.084793   \n",
              "2  0.192768 -0.696156  1.313207 -0.970189  0.277825 -0.305163  0.921835   \n",
              "3  0.192768 -0.696156  1.313207  1.030727  0.277825 -0.305163  0.921835   \n",
              "4  0.192768  1.436459 -0.761495  1.030727  0.277825 -0.305163  0.921835   \n",
              "\n",
              "         7         8         9   ...        26        27        28        29  \\\n",
              "0 -0.604332  0.328000  0.979509  ...  0.533285  0.634178 -0.174014 -0.119952   \n",
              "1  1.654719 -3.048784 -1.020919  ...  0.533285 -0.273340 -0.174014 -0.542250   \n",
              "2 -0.604332  0.328000  0.979509  ...  0.533285 -0.211863 -0.174014  1.569233   \n",
              "3 -0.604332  0.328000  0.979509  ...  0.533285 -0.425569 -0.174014 -1.293939   \n",
              "4  1.654719  0.328000  0.979509  ...  0.533285  0.048682 -0.174014  0.724639   \n",
              "\n",
              "         30        31        32        33        34        35  \n",
              "0 -0.630528 -0.864033 -0.784048 -0.750035 -0.594775  0.849991  \n",
              "1  0.965971 -0.491625  0.801671  0.524279 -0.027202  0.044289  \n",
              "2  0.590249 -0.165831  0.428486  0.831875  0.540370 -0.742947  \n",
              "3 -0.536723  0.159907 -0.690876  0.787935 -0.245499  0.395345  \n",
              "4 -1.475750  0.904912  2.478676  0.436396 -2.777746 -0.160334  \n",
              "\n",
              "[5 rows x 36 columns]"
            ],
            "text/html": [
              "\n",
              "  <div id=\"df-6e3b4135-ebd6-4784-956c-763c86a758b9\" class=\"colab-df-container\">\n",
              "    <div>\n",
              "<style scoped>\n",
              "    .dataframe tbody tr th:only-of-type {\n",
              "        vertical-align: middle;\n",
              "    }\n",
              "\n",
              "    .dataframe tbody tr th {\n",
              "        vertical-align: top;\n",
              "    }\n",
              "\n",
              "    .dataframe thead th {\n",
              "        text-align: right;\n",
              "    }\n",
              "</style>\n",
              "<table border=\"1\" class=\"dataframe\">\n",
              "  <thead>\n",
              "    <tr style=\"text-align: right;\">\n",
              "      <th></th>\n",
              "      <th>0</th>\n",
              "      <th>1</th>\n",
              "      <th>2</th>\n",
              "      <th>3</th>\n",
              "      <th>4</th>\n",
              "      <th>5</th>\n",
              "      <th>6</th>\n",
              "      <th>7</th>\n",
              "      <th>8</th>\n",
              "      <th>9</th>\n",
              "      <th>...</th>\n",
              "      <th>26</th>\n",
              "      <th>27</th>\n",
              "      <th>28</th>\n",
              "      <th>29</th>\n",
              "      <th>30</th>\n",
              "      <th>31</th>\n",
              "      <th>32</th>\n",
              "      <th>33</th>\n",
              "      <th>34</th>\n",
              "      <th>35</th>\n",
              "    </tr>\n",
              "  </thead>\n",
              "  <tbody>\n",
              "    <tr>\n",
              "      <th>0</th>\n",
              "      <td>0.192768</td>\n",
              "      <td>-0.696156</td>\n",
              "      <td>-0.761495</td>\n",
              "      <td>-0.970189</td>\n",
              "      <td>0.277825</td>\n",
              "      <td>-0.305163</td>\n",
              "      <td>0.921835</td>\n",
              "      <td>-0.604332</td>\n",
              "      <td>0.328000</td>\n",
              "      <td>0.979509</td>\n",
              "      <td>...</td>\n",
              "      <td>0.533285</td>\n",
              "      <td>0.634178</td>\n",
              "      <td>-0.174014</td>\n",
              "      <td>-0.119952</td>\n",
              "      <td>-0.630528</td>\n",
              "      <td>-0.864033</td>\n",
              "      <td>-0.784048</td>\n",
              "      <td>-0.750035</td>\n",
              "      <td>-0.594775</td>\n",
              "      <td>0.849991</td>\n",
              "    </tr>\n",
              "    <tr>\n",
              "      <th>1</th>\n",
              "      <td>0.192768</td>\n",
              "      <td>-0.696156</td>\n",
              "      <td>1.313207</td>\n",
              "      <td>-0.970189</td>\n",
              "      <td>0.277825</td>\n",
              "      <td>-0.305163</td>\n",
              "      <td>-1.084793</td>\n",
              "      <td>1.654719</td>\n",
              "      <td>-3.048784</td>\n",
              "      <td>-1.020919</td>\n",
              "      <td>...</td>\n",
              "      <td>0.533285</td>\n",
              "      <td>-0.273340</td>\n",
              "      <td>-0.174014</td>\n",
              "      <td>-0.542250</td>\n",
              "      <td>0.965971</td>\n",
              "      <td>-0.491625</td>\n",
              "      <td>0.801671</td>\n",
              "      <td>0.524279</td>\n",
              "      <td>-0.027202</td>\n",
              "      <td>0.044289</td>\n",
              "    </tr>\n",
              "    <tr>\n",
              "      <th>2</th>\n",
              "      <td>0.192768</td>\n",
              "      <td>-0.696156</td>\n",
              "      <td>1.313207</td>\n",
              "      <td>-0.970189</td>\n",
              "      <td>0.277825</td>\n",
              "      <td>-0.305163</td>\n",
              "      <td>0.921835</td>\n",
              "      <td>-0.604332</td>\n",
              "      <td>0.328000</td>\n",
              "      <td>0.979509</td>\n",
              "      <td>...</td>\n",
              "      <td>0.533285</td>\n",
              "      <td>-0.211863</td>\n",
              "      <td>-0.174014</td>\n",
              "      <td>1.569233</td>\n",
              "      <td>0.590249</td>\n",
              "      <td>-0.165831</td>\n",
              "      <td>0.428486</td>\n",
              "      <td>0.831875</td>\n",
              "      <td>0.540370</td>\n",
              "      <td>-0.742947</td>\n",
              "    </tr>\n",
              "    <tr>\n",
              "      <th>3</th>\n",
              "      <td>0.192768</td>\n",
              "      <td>-0.696156</td>\n",
              "      <td>1.313207</td>\n",
              "      <td>1.030727</td>\n",
              "      <td>0.277825</td>\n",
              "      <td>-0.305163</td>\n",
              "      <td>0.921835</td>\n",
              "      <td>-0.604332</td>\n",
              "      <td>0.328000</td>\n",
              "      <td>0.979509</td>\n",
              "      <td>...</td>\n",
              "      <td>0.533285</td>\n",
              "      <td>-0.425569</td>\n",
              "      <td>-0.174014</td>\n",
              "      <td>-1.293939</td>\n",
              "      <td>-0.536723</td>\n",
              "      <td>0.159907</td>\n",
              "      <td>-0.690876</td>\n",
              "      <td>0.787935</td>\n",
              "      <td>-0.245499</td>\n",
              "      <td>0.395345</td>\n",
              "    </tr>\n",
              "    <tr>\n",
              "      <th>4</th>\n",
              "      <td>0.192768</td>\n",
              "      <td>1.436459</td>\n",
              "      <td>-0.761495</td>\n",
              "      <td>1.030727</td>\n",
              "      <td>0.277825</td>\n",
              "      <td>-0.305163</td>\n",
              "      <td>0.921835</td>\n",
              "      <td>1.654719</td>\n",
              "      <td>0.328000</td>\n",
              "      <td>0.979509</td>\n",
              "      <td>...</td>\n",
              "      <td>0.533285</td>\n",
              "      <td>0.048682</td>\n",
              "      <td>-0.174014</td>\n",
              "      <td>0.724639</td>\n",
              "      <td>-1.475750</td>\n",
              "      <td>0.904912</td>\n",
              "      <td>2.478676</td>\n",
              "      <td>0.436396</td>\n",
              "      <td>-2.777746</td>\n",
              "      <td>-0.160334</td>\n",
              "    </tr>\n",
              "  </tbody>\n",
              "</table>\n",
              "<p>5 rows × 36 columns</p>\n",
              "</div>\n",
              "    <div class=\"colab-df-buttons\">\n",
              "\n",
              "  <div class=\"colab-df-container\">\n",
              "    <button class=\"colab-df-convert\" onclick=\"convertToInteractive('df-6e3b4135-ebd6-4784-956c-763c86a758b9')\"\n",
              "            title=\"Convert this dataframe to an interactive table.\"\n",
              "            style=\"display:none;\">\n",
              "\n",
              "  <svg xmlns=\"http://www.w3.org/2000/svg\" height=\"24px\" viewBox=\"0 -960 960 960\">\n",
              "    <path d=\"M120-120v-720h720v720H120Zm60-500h600v-160H180v160Zm220 220h160v-160H400v160Zm0 220h160v-160H400v160ZM180-400h160v-160H180v160Zm440 0h160v-160H620v160ZM180-180h160v-160H180v160Zm440 0h160v-160H620v160Z\"/>\n",
              "  </svg>\n",
              "    </button>\n",
              "\n",
              "  <style>\n",
              "    .colab-df-container {\n",
              "      display:flex;\n",
              "      gap: 12px;\n",
              "    }\n",
              "\n",
              "    .colab-df-convert {\n",
              "      background-color: #E8F0FE;\n",
              "      border: none;\n",
              "      border-radius: 50%;\n",
              "      cursor: pointer;\n",
              "      display: none;\n",
              "      fill: #1967D2;\n",
              "      height: 32px;\n",
              "      padding: 0 0 0 0;\n",
              "      width: 32px;\n",
              "    }\n",
              "\n",
              "    .colab-df-convert:hover {\n",
              "      background-color: #E2EBFA;\n",
              "      box-shadow: 0px 1px 2px rgba(60, 64, 67, 0.3), 0px 1px 3px 1px rgba(60, 64, 67, 0.15);\n",
              "      fill: #174EA6;\n",
              "    }\n",
              "\n",
              "    .colab-df-buttons div {\n",
              "      margin-bottom: 4px;\n",
              "    }\n",
              "\n",
              "    [theme=dark] .colab-df-convert {\n",
              "      background-color: #3B4455;\n",
              "      fill: #D2E3FC;\n",
              "    }\n",
              "\n",
              "    [theme=dark] .colab-df-convert:hover {\n",
              "      background-color: #434B5C;\n",
              "      box-shadow: 0px 1px 3px 1px rgba(0, 0, 0, 0.15);\n",
              "      filter: drop-shadow(0px 1px 2px rgba(0, 0, 0, 0.3));\n",
              "      fill: #FFFFFF;\n",
              "    }\n",
              "  </style>\n",
              "\n",
              "    <script>\n",
              "      const buttonEl =\n",
              "        document.querySelector('#df-6e3b4135-ebd6-4784-956c-763c86a758b9 button.colab-df-convert');\n",
              "      buttonEl.style.display =\n",
              "        google.colab.kernel.accessAllowed ? 'block' : 'none';\n",
              "\n",
              "      async function convertToInteractive(key) {\n",
              "        const element = document.querySelector('#df-6e3b4135-ebd6-4784-956c-763c86a758b9');\n",
              "        const dataTable =\n",
              "          await google.colab.kernel.invokeFunction('convertToInteractive',\n",
              "                                                    [key], {});\n",
              "        if (!dataTable) return;\n",
              "\n",
              "        const docLinkHtml = 'Like what you see? Visit the ' +\n",
              "          '<a target=\"_blank\" href=https://colab.research.google.com/notebooks/data_table.ipynb>data table notebook</a>'\n",
              "          + ' to learn more about interactive tables.';\n",
              "        element.innerHTML = '';\n",
              "        dataTable['output_type'] = 'display_data';\n",
              "        await google.colab.output.renderOutput(dataTable, element);\n",
              "        const docLink = document.createElement('div');\n",
              "        docLink.innerHTML = docLinkHtml;\n",
              "        element.appendChild(docLink);\n",
              "      }\n",
              "    </script>\n",
              "  </div>\n",
              "\n",
              "\n",
              "<div id=\"df-a1d57081-3960-4597-9ba5-098d91926e99\">\n",
              "  <button class=\"colab-df-quickchart\" onclick=\"quickchart('df-a1d57081-3960-4597-9ba5-098d91926e99')\"\n",
              "            title=\"Suggest charts\"\n",
              "            style=\"display:none;\">\n",
              "\n",
              "<svg xmlns=\"http://www.w3.org/2000/svg\" height=\"24px\"viewBox=\"0 0 24 24\"\n",
              "     width=\"24px\">\n",
              "    <g>\n",
              "        <path d=\"M19 3H5c-1.1 0-2 .9-2 2v14c0 1.1.9 2 2 2h14c1.1 0 2-.9 2-2V5c0-1.1-.9-2-2-2zM9 17H7v-7h2v7zm4 0h-2V7h2v10zm4 0h-2v-4h2v4z\"/>\n",
              "    </g>\n",
              "</svg>\n",
              "  </button>\n",
              "\n",
              "<style>\n",
              "  .colab-df-quickchart {\n",
              "      --bg-color: #E8F0FE;\n",
              "      --fill-color: #1967D2;\n",
              "      --hover-bg-color: #E2EBFA;\n",
              "      --hover-fill-color: #174EA6;\n",
              "      --disabled-fill-color: #AAA;\n",
              "      --disabled-bg-color: #DDD;\n",
              "  }\n",
              "\n",
              "  [theme=dark] .colab-df-quickchart {\n",
              "      --bg-color: #3B4455;\n",
              "      --fill-color: #D2E3FC;\n",
              "      --hover-bg-color: #434B5C;\n",
              "      --hover-fill-color: #FFFFFF;\n",
              "      --disabled-bg-color: #3B4455;\n",
              "      --disabled-fill-color: #666;\n",
              "  }\n",
              "\n",
              "  .colab-df-quickchart {\n",
              "    background-color: var(--bg-color);\n",
              "    border: none;\n",
              "    border-radius: 50%;\n",
              "    cursor: pointer;\n",
              "    display: none;\n",
              "    fill: var(--fill-color);\n",
              "    height: 32px;\n",
              "    padding: 0;\n",
              "    width: 32px;\n",
              "  }\n",
              "\n",
              "  .colab-df-quickchart:hover {\n",
              "    background-color: var(--hover-bg-color);\n",
              "    box-shadow: 0 1px 2px rgba(60, 64, 67, 0.3), 0 1px 3px 1px rgba(60, 64, 67, 0.15);\n",
              "    fill: var(--button-hover-fill-color);\n",
              "  }\n",
              "\n",
              "  .colab-df-quickchart-complete:disabled,\n",
              "  .colab-df-quickchart-complete:disabled:hover {\n",
              "    background-color: var(--disabled-bg-color);\n",
              "    fill: var(--disabled-fill-color);\n",
              "    box-shadow: none;\n",
              "  }\n",
              "\n",
              "  .colab-df-spinner {\n",
              "    border: 2px solid var(--fill-color);\n",
              "    border-color: transparent;\n",
              "    border-bottom-color: var(--fill-color);\n",
              "    animation:\n",
              "      spin 1s steps(1) infinite;\n",
              "  }\n",
              "\n",
              "  @keyframes spin {\n",
              "    0% {\n",
              "      border-color: transparent;\n",
              "      border-bottom-color: var(--fill-color);\n",
              "      border-left-color: var(--fill-color);\n",
              "    }\n",
              "    20% {\n",
              "      border-color: transparent;\n",
              "      border-left-color: var(--fill-color);\n",
              "      border-top-color: var(--fill-color);\n",
              "    }\n",
              "    30% {\n",
              "      border-color: transparent;\n",
              "      border-left-color: var(--fill-color);\n",
              "      border-top-color: var(--fill-color);\n",
              "      border-right-color: var(--fill-color);\n",
              "    }\n",
              "    40% {\n",
              "      border-color: transparent;\n",
              "      border-right-color: var(--fill-color);\n",
              "      border-top-color: var(--fill-color);\n",
              "    }\n",
              "    60% {\n",
              "      border-color: transparent;\n",
              "      border-right-color: var(--fill-color);\n",
              "    }\n",
              "    80% {\n",
              "      border-color: transparent;\n",
              "      border-right-color: var(--fill-color);\n",
              "      border-bottom-color: var(--fill-color);\n",
              "    }\n",
              "    90% {\n",
              "      border-color: transparent;\n",
              "      border-bottom-color: var(--fill-color);\n",
              "    }\n",
              "  }\n",
              "</style>\n",
              "\n",
              "  <script>\n",
              "    async function quickchart(key) {\n",
              "      const quickchartButtonEl =\n",
              "        document.querySelector('#' + key + ' button');\n",
              "      quickchartButtonEl.disabled = true;  // To prevent multiple clicks.\n",
              "      quickchartButtonEl.classList.add('colab-df-spinner');\n",
              "      try {\n",
              "        const charts = await google.colab.kernel.invokeFunction(\n",
              "            'suggestCharts', [key], {});\n",
              "      } catch (error) {\n",
              "        console.error('Error during call to suggestCharts:', error);\n",
              "      }\n",
              "      quickchartButtonEl.classList.remove('colab-df-spinner');\n",
              "      quickchartButtonEl.classList.add('colab-df-quickchart-complete');\n",
              "    }\n",
              "    (() => {\n",
              "      let quickchartButtonEl =\n",
              "        document.querySelector('#df-a1d57081-3960-4597-9ba5-098d91926e99 button');\n",
              "      quickchartButtonEl.style.display =\n",
              "        google.colab.kernel.accessAllowed ? 'block' : 'none';\n",
              "    })();\n",
              "  </script>\n",
              "</div>\n",
              "\n",
              "    </div>\n",
              "  </div>\n"
            ]
          },
          "metadata": {},
          "execution_count": 31
        }
      ]
    },
    {
      "cell_type": "markdown",
      "source": [
        "The snippet applies StandardScaler to normalize the x_train and x_valid datasets, ensuring that each feature contributes equally to the analysis by centering them around zero with unit variance. This process is crucial for algorithms sensitive to feature scale. The output shows the first five rows of the scaled x_train data, indicating successful standardization of the features."
      ],
      "metadata": {
        "id": "TOJeuFV43BG5"
      }
    },
    {
      "cell_type": "code",
      "source": [
        "pd.DataFrame(x_valid).head()"
      ],
      "metadata": {
        "colab": {
          "base_uri": "https://localhost:8080/",
          "height": 255
        },
        "id": "dNFPnVGD8RQA",
        "outputId": "0ffa387d-49b7-420c-8496-1515f7f5d120"
      },
      "execution_count": 32,
      "outputs": [
        {
          "output_type": "execute_result",
          "data": {
            "text/plain": [
              "         0         1         2         3         4         5         6   \\\n",
              "0  0.192768  1.436459 -0.761495 -0.970189  0.277825 -0.305163 -1.084793   \n",
              "1  0.192768 -0.696156 -0.761495 -0.970189  0.277825 -0.305163  0.921835   \n",
              "2  0.192768 -0.696156 -0.761495  1.030727  0.277825 -0.305163  0.921835   \n",
              "3  0.192768 -0.696156  1.313207  1.030727  0.277825 -0.305163  0.921835   \n",
              "4  0.192768 -0.696156  1.313207  1.030727  0.277825 -0.305163  0.921835   \n",
              "\n",
              "         7      8         9   ...        26        27        28        29  \\\n",
              "0  1.654719  0.328 -1.020919  ... -1.083042 -0.829562 -0.143477  0.684525   \n",
              "1 -0.604332  0.328  0.979509  ...  0.533285 -0.244066 -0.174014  1.146938   \n",
              "2 -0.604332  0.328  0.979509  ...  0.533285 -0.829562 -0.174014 -0.964545   \n",
              "3 -0.604332  0.328  0.979509  ...  0.533285  1.690999 -0.174014  0.302344   \n",
              "4 -0.604332  0.328  0.979509  ...  0.533285 -0.536814 -0.174014  0.302344   \n",
              "\n",
              "         30        31        32        33        34        35  \n",
              "0  1.518072  0.149652  1.350044  1.677233  1.380294 -1.423241  \n",
              "1  0.120729  0.625513  0.988203  0.040920 -0.245499 -0.665497  \n",
              "2 -0.818380 -0.910574 -0.970632  1.007642  0.715008 -0.968594  \n",
              "3  1.153674  1.137452  0.988106 -0.530326 -0.944050  1.326261  \n",
              "4 -0.160983  0.206634 -0.317674 -1.013687  0.627689 -0.833884  \n",
              "\n",
              "[5 rows x 36 columns]"
            ],
            "text/html": [
              "\n",
              "  <div id=\"df-40857ee4-ae02-4e17-bff3-6cf5ab245354\" class=\"colab-df-container\">\n",
              "    <div>\n",
              "<style scoped>\n",
              "    .dataframe tbody tr th:only-of-type {\n",
              "        vertical-align: middle;\n",
              "    }\n",
              "\n",
              "    .dataframe tbody tr th {\n",
              "        vertical-align: top;\n",
              "    }\n",
              "\n",
              "    .dataframe thead th {\n",
              "        text-align: right;\n",
              "    }\n",
              "</style>\n",
              "<table border=\"1\" class=\"dataframe\">\n",
              "  <thead>\n",
              "    <tr style=\"text-align: right;\">\n",
              "      <th></th>\n",
              "      <th>0</th>\n",
              "      <th>1</th>\n",
              "      <th>2</th>\n",
              "      <th>3</th>\n",
              "      <th>4</th>\n",
              "      <th>5</th>\n",
              "      <th>6</th>\n",
              "      <th>7</th>\n",
              "      <th>8</th>\n",
              "      <th>9</th>\n",
              "      <th>...</th>\n",
              "      <th>26</th>\n",
              "      <th>27</th>\n",
              "      <th>28</th>\n",
              "      <th>29</th>\n",
              "      <th>30</th>\n",
              "      <th>31</th>\n",
              "      <th>32</th>\n",
              "      <th>33</th>\n",
              "      <th>34</th>\n",
              "      <th>35</th>\n",
              "    </tr>\n",
              "  </thead>\n",
              "  <tbody>\n",
              "    <tr>\n",
              "      <th>0</th>\n",
              "      <td>0.192768</td>\n",
              "      <td>1.436459</td>\n",
              "      <td>-0.761495</td>\n",
              "      <td>-0.970189</td>\n",
              "      <td>0.277825</td>\n",
              "      <td>-0.305163</td>\n",
              "      <td>-1.084793</td>\n",
              "      <td>1.654719</td>\n",
              "      <td>0.328</td>\n",
              "      <td>-1.020919</td>\n",
              "      <td>...</td>\n",
              "      <td>-1.083042</td>\n",
              "      <td>-0.829562</td>\n",
              "      <td>-0.143477</td>\n",
              "      <td>0.684525</td>\n",
              "      <td>1.518072</td>\n",
              "      <td>0.149652</td>\n",
              "      <td>1.350044</td>\n",
              "      <td>1.677233</td>\n",
              "      <td>1.380294</td>\n",
              "      <td>-1.423241</td>\n",
              "    </tr>\n",
              "    <tr>\n",
              "      <th>1</th>\n",
              "      <td>0.192768</td>\n",
              "      <td>-0.696156</td>\n",
              "      <td>-0.761495</td>\n",
              "      <td>-0.970189</td>\n",
              "      <td>0.277825</td>\n",
              "      <td>-0.305163</td>\n",
              "      <td>0.921835</td>\n",
              "      <td>-0.604332</td>\n",
              "      <td>0.328</td>\n",
              "      <td>0.979509</td>\n",
              "      <td>...</td>\n",
              "      <td>0.533285</td>\n",
              "      <td>-0.244066</td>\n",
              "      <td>-0.174014</td>\n",
              "      <td>1.146938</td>\n",
              "      <td>0.120729</td>\n",
              "      <td>0.625513</td>\n",
              "      <td>0.988203</td>\n",
              "      <td>0.040920</td>\n",
              "      <td>-0.245499</td>\n",
              "      <td>-0.665497</td>\n",
              "    </tr>\n",
              "    <tr>\n",
              "      <th>2</th>\n",
              "      <td>0.192768</td>\n",
              "      <td>-0.696156</td>\n",
              "      <td>-0.761495</td>\n",
              "      <td>1.030727</td>\n",
              "      <td>0.277825</td>\n",
              "      <td>-0.305163</td>\n",
              "      <td>0.921835</td>\n",
              "      <td>-0.604332</td>\n",
              "      <td>0.328</td>\n",
              "      <td>0.979509</td>\n",
              "      <td>...</td>\n",
              "      <td>0.533285</td>\n",
              "      <td>-0.829562</td>\n",
              "      <td>-0.174014</td>\n",
              "      <td>-0.964545</td>\n",
              "      <td>-0.818380</td>\n",
              "      <td>-0.910574</td>\n",
              "      <td>-0.970632</td>\n",
              "      <td>1.007642</td>\n",
              "      <td>0.715008</td>\n",
              "      <td>-0.968594</td>\n",
              "    </tr>\n",
              "    <tr>\n",
              "      <th>3</th>\n",
              "      <td>0.192768</td>\n",
              "      <td>-0.696156</td>\n",
              "      <td>1.313207</td>\n",
              "      <td>1.030727</td>\n",
              "      <td>0.277825</td>\n",
              "      <td>-0.305163</td>\n",
              "      <td>0.921835</td>\n",
              "      <td>-0.604332</td>\n",
              "      <td>0.328</td>\n",
              "      <td>0.979509</td>\n",
              "      <td>...</td>\n",
              "      <td>0.533285</td>\n",
              "      <td>1.690999</td>\n",
              "      <td>-0.174014</td>\n",
              "      <td>0.302344</td>\n",
              "      <td>1.153674</td>\n",
              "      <td>1.137452</td>\n",
              "      <td>0.988106</td>\n",
              "      <td>-0.530326</td>\n",
              "      <td>-0.944050</td>\n",
              "      <td>1.326261</td>\n",
              "    </tr>\n",
              "    <tr>\n",
              "      <th>4</th>\n",
              "      <td>0.192768</td>\n",
              "      <td>-0.696156</td>\n",
              "      <td>1.313207</td>\n",
              "      <td>1.030727</td>\n",
              "      <td>0.277825</td>\n",
              "      <td>-0.305163</td>\n",
              "      <td>0.921835</td>\n",
              "      <td>-0.604332</td>\n",
              "      <td>0.328</td>\n",
              "      <td>0.979509</td>\n",
              "      <td>...</td>\n",
              "      <td>0.533285</td>\n",
              "      <td>-0.536814</td>\n",
              "      <td>-0.174014</td>\n",
              "      <td>0.302344</td>\n",
              "      <td>-0.160983</td>\n",
              "      <td>0.206634</td>\n",
              "      <td>-0.317674</td>\n",
              "      <td>-1.013687</td>\n",
              "      <td>0.627689</td>\n",
              "      <td>-0.833884</td>\n",
              "    </tr>\n",
              "  </tbody>\n",
              "</table>\n",
              "<p>5 rows × 36 columns</p>\n",
              "</div>\n",
              "    <div class=\"colab-df-buttons\">\n",
              "\n",
              "  <div class=\"colab-df-container\">\n",
              "    <button class=\"colab-df-convert\" onclick=\"convertToInteractive('df-40857ee4-ae02-4e17-bff3-6cf5ab245354')\"\n",
              "            title=\"Convert this dataframe to an interactive table.\"\n",
              "            style=\"display:none;\">\n",
              "\n",
              "  <svg xmlns=\"http://www.w3.org/2000/svg\" height=\"24px\" viewBox=\"0 -960 960 960\">\n",
              "    <path d=\"M120-120v-720h720v720H120Zm60-500h600v-160H180v160Zm220 220h160v-160H400v160Zm0 220h160v-160H400v160ZM180-400h160v-160H180v160Zm440 0h160v-160H620v160ZM180-180h160v-160H180v160Zm440 0h160v-160H620v160Z\"/>\n",
              "  </svg>\n",
              "    </button>\n",
              "\n",
              "  <style>\n",
              "    .colab-df-container {\n",
              "      display:flex;\n",
              "      gap: 12px;\n",
              "    }\n",
              "\n",
              "    .colab-df-convert {\n",
              "      background-color: #E8F0FE;\n",
              "      border: none;\n",
              "      border-radius: 50%;\n",
              "      cursor: pointer;\n",
              "      display: none;\n",
              "      fill: #1967D2;\n",
              "      height: 32px;\n",
              "      padding: 0 0 0 0;\n",
              "      width: 32px;\n",
              "    }\n",
              "\n",
              "    .colab-df-convert:hover {\n",
              "      background-color: #E2EBFA;\n",
              "      box-shadow: 0px 1px 2px rgba(60, 64, 67, 0.3), 0px 1px 3px 1px rgba(60, 64, 67, 0.15);\n",
              "      fill: #174EA6;\n",
              "    }\n",
              "\n",
              "    .colab-df-buttons div {\n",
              "      margin-bottom: 4px;\n",
              "    }\n",
              "\n",
              "    [theme=dark] .colab-df-convert {\n",
              "      background-color: #3B4455;\n",
              "      fill: #D2E3FC;\n",
              "    }\n",
              "\n",
              "    [theme=dark] .colab-df-convert:hover {\n",
              "      background-color: #434B5C;\n",
              "      box-shadow: 0px 1px 3px 1px rgba(0, 0, 0, 0.15);\n",
              "      filter: drop-shadow(0px 1px 2px rgba(0, 0, 0, 0.3));\n",
              "      fill: #FFFFFF;\n",
              "    }\n",
              "  </style>\n",
              "\n",
              "    <script>\n",
              "      const buttonEl =\n",
              "        document.querySelector('#df-40857ee4-ae02-4e17-bff3-6cf5ab245354 button.colab-df-convert');\n",
              "      buttonEl.style.display =\n",
              "        google.colab.kernel.accessAllowed ? 'block' : 'none';\n",
              "\n",
              "      async function convertToInteractive(key) {\n",
              "        const element = document.querySelector('#df-40857ee4-ae02-4e17-bff3-6cf5ab245354');\n",
              "        const dataTable =\n",
              "          await google.colab.kernel.invokeFunction('convertToInteractive',\n",
              "                                                    [key], {});\n",
              "        if (!dataTable) return;\n",
              "\n",
              "        const docLinkHtml = 'Like what you see? Visit the ' +\n",
              "          '<a target=\"_blank\" href=https://colab.research.google.com/notebooks/data_table.ipynb>data table notebook</a>'\n",
              "          + ' to learn more about interactive tables.';\n",
              "        element.innerHTML = '';\n",
              "        dataTable['output_type'] = 'display_data';\n",
              "        await google.colab.output.renderOutput(dataTable, element);\n",
              "        const docLink = document.createElement('div');\n",
              "        docLink.innerHTML = docLinkHtml;\n",
              "        element.appendChild(docLink);\n",
              "      }\n",
              "    </script>\n",
              "  </div>\n",
              "\n",
              "\n",
              "<div id=\"df-5e282a7b-d8f1-46b8-b173-34ed9c239d8f\">\n",
              "  <button class=\"colab-df-quickchart\" onclick=\"quickchart('df-5e282a7b-d8f1-46b8-b173-34ed9c239d8f')\"\n",
              "            title=\"Suggest charts\"\n",
              "            style=\"display:none;\">\n",
              "\n",
              "<svg xmlns=\"http://www.w3.org/2000/svg\" height=\"24px\"viewBox=\"0 0 24 24\"\n",
              "     width=\"24px\">\n",
              "    <g>\n",
              "        <path d=\"M19 3H5c-1.1 0-2 .9-2 2v14c0 1.1.9 2 2 2h14c1.1 0 2-.9 2-2V5c0-1.1-.9-2-2-2zM9 17H7v-7h2v7zm4 0h-2V7h2v10zm4 0h-2v-4h2v4z\"/>\n",
              "    </g>\n",
              "</svg>\n",
              "  </button>\n",
              "\n",
              "<style>\n",
              "  .colab-df-quickchart {\n",
              "      --bg-color: #E8F0FE;\n",
              "      --fill-color: #1967D2;\n",
              "      --hover-bg-color: #E2EBFA;\n",
              "      --hover-fill-color: #174EA6;\n",
              "      --disabled-fill-color: #AAA;\n",
              "      --disabled-bg-color: #DDD;\n",
              "  }\n",
              "\n",
              "  [theme=dark] .colab-df-quickchart {\n",
              "      --bg-color: #3B4455;\n",
              "      --fill-color: #D2E3FC;\n",
              "      --hover-bg-color: #434B5C;\n",
              "      --hover-fill-color: #FFFFFF;\n",
              "      --disabled-bg-color: #3B4455;\n",
              "      --disabled-fill-color: #666;\n",
              "  }\n",
              "\n",
              "  .colab-df-quickchart {\n",
              "    background-color: var(--bg-color);\n",
              "    border: none;\n",
              "    border-radius: 50%;\n",
              "    cursor: pointer;\n",
              "    display: none;\n",
              "    fill: var(--fill-color);\n",
              "    height: 32px;\n",
              "    padding: 0;\n",
              "    width: 32px;\n",
              "  }\n",
              "\n",
              "  .colab-df-quickchart:hover {\n",
              "    background-color: var(--hover-bg-color);\n",
              "    box-shadow: 0 1px 2px rgba(60, 64, 67, 0.3), 0 1px 3px 1px rgba(60, 64, 67, 0.15);\n",
              "    fill: var(--button-hover-fill-color);\n",
              "  }\n",
              "\n",
              "  .colab-df-quickchart-complete:disabled,\n",
              "  .colab-df-quickchart-complete:disabled:hover {\n",
              "    background-color: var(--disabled-bg-color);\n",
              "    fill: var(--disabled-fill-color);\n",
              "    box-shadow: none;\n",
              "  }\n",
              "\n",
              "  .colab-df-spinner {\n",
              "    border: 2px solid var(--fill-color);\n",
              "    border-color: transparent;\n",
              "    border-bottom-color: var(--fill-color);\n",
              "    animation:\n",
              "      spin 1s steps(1) infinite;\n",
              "  }\n",
              "\n",
              "  @keyframes spin {\n",
              "    0% {\n",
              "      border-color: transparent;\n",
              "      border-bottom-color: var(--fill-color);\n",
              "      border-left-color: var(--fill-color);\n",
              "    }\n",
              "    20% {\n",
              "      border-color: transparent;\n",
              "      border-left-color: var(--fill-color);\n",
              "      border-top-color: var(--fill-color);\n",
              "    }\n",
              "    30% {\n",
              "      border-color: transparent;\n",
              "      border-left-color: var(--fill-color);\n",
              "      border-top-color: var(--fill-color);\n",
              "      border-right-color: var(--fill-color);\n",
              "    }\n",
              "    40% {\n",
              "      border-color: transparent;\n",
              "      border-right-color: var(--fill-color);\n",
              "      border-top-color: var(--fill-color);\n",
              "    }\n",
              "    60% {\n",
              "      border-color: transparent;\n",
              "      border-right-color: var(--fill-color);\n",
              "    }\n",
              "    80% {\n",
              "      border-color: transparent;\n",
              "      border-right-color: var(--fill-color);\n",
              "      border-bottom-color: var(--fill-color);\n",
              "    }\n",
              "    90% {\n",
              "      border-color: transparent;\n",
              "      border-bottom-color: var(--fill-color);\n",
              "    }\n",
              "  }\n",
              "</style>\n",
              "\n",
              "  <script>\n",
              "    async function quickchart(key) {\n",
              "      const quickchartButtonEl =\n",
              "        document.querySelector('#' + key + ' button');\n",
              "      quickchartButtonEl.disabled = true;  // To prevent multiple clicks.\n",
              "      quickchartButtonEl.classList.add('colab-df-spinner');\n",
              "      try {\n",
              "        const charts = await google.colab.kernel.invokeFunction(\n",
              "            'suggestCharts', [key], {});\n",
              "      } catch (error) {\n",
              "        console.error('Error during call to suggestCharts:', error);\n",
              "      }\n",
              "      quickchartButtonEl.classList.remove('colab-df-spinner');\n",
              "      quickchartButtonEl.classList.add('colab-df-quickchart-complete');\n",
              "    }\n",
              "    (() => {\n",
              "      let quickchartButtonEl =\n",
              "        document.querySelector('#df-5e282a7b-d8f1-46b8-b173-34ed9c239d8f button');\n",
              "      quickchartButtonEl.style.display =\n",
              "        google.colab.kernel.accessAllowed ? 'block' : 'none';\n",
              "    })();\n",
              "  </script>\n",
              "</div>\n",
              "\n",
              "    </div>\n",
              "  </div>\n"
            ]
          },
          "metadata": {},
          "execution_count": 32
        }
      ]
    },
    {
      "cell_type": "markdown",
      "source": [
        "The code snippet displays the first five rows of the scaled x_valid dataset, represented as a pandas DataFrame. It indicates that the validation data has been successfully standardized using the StandardScaler, with each feature adjusted to have a mean of zero and a standard deviation of one. This consistent scaling between the training and validation sets is crucial for the reliable evaluation of machine learning models."
      ],
      "metadata": {
        "id": "bVPVDBxK3Kls"
      }
    },
    {
      "cell_type": "markdown",
      "source": [
        "# Model Building"
      ],
      "metadata": {
        "id": "M-HfcNIK80Qd"
      }
    },
    {
      "cell_type": "code",
      "source": [
        "import tensorflow as tf\n",
        "from tensorflow import keras\n",
        "from keras import Sequential\n",
        "from keras.layers import Dense"
      ],
      "metadata": {
        "id": "h6ly_-fK5CPR"
      },
      "execution_count": 33,
      "outputs": []
    },
    {
      "cell_type": "code",
      "source": [
        "classifier = Sequential()\n",
        "# Hidden Layer\n",
        "classifier.add(Dense(input_dim=num_inputs, activation='relu', units=50))\n",
        "# output layer\n",
        "classifier.add(Dense(activation='sigmoid', units=1))\n",
        "classifier.summary()"
      ],
      "metadata": {
        "colab": {
          "base_uri": "https://localhost:8080/"
        },
        "id": "FAWl596g47rO",
        "outputId": "2d893d84-a2f7-4e05-9d90-7b8ed357e860"
      },
      "execution_count": 34,
      "outputs": [
        {
          "output_type": "stream",
          "name": "stdout",
          "text": [
            "Model: \"sequential\"\n",
            "_________________________________________________________________\n",
            " Layer (type)                Output Shape              Param #   \n",
            "=================================================================\n",
            " dense (Dense)               (None, 50)                1850      \n",
            "                                                                 \n",
            " dense_1 (Dense)             (None, 1)                 51        \n",
            "                                                                 \n",
            "=================================================================\n",
            "Total params: 1901 (7.43 KB)\n",
            "Trainable params: 1901 (7.43 KB)\n",
            "Non-trainable params: 0 (0.00 Byte)\n",
            "_________________________________________________________________\n"
          ]
        }
      ]
    },
    {
      "cell_type": "markdown",
      "source": [
        "This code snippet defines a simple neural network classifier using TensorFlow and Keras. The model, named classifier, is a Sequential model with two layers:\n",
        "\n",
        "1. A hidden layer with 50 units, using the ReLU (Rectified Linear Unit) activation function. The input_dim is set to the number of independent variables (36), ensuring the model can process the input data correctly.\n",
        "\n",
        "2. An output layer with 1 unit, using the sigmoid activation function, suitable for binary classification tasks like the one implied by the 'Decision' variable.\n",
        "\n",
        "The model summary output shows that the first dense layer has 1,850 parameters, and the second dense layer has 51 parameters, totaling 1,901 trainable parameters. This architecture, while relatively simple, is often effective for binary classification problems. The use of ReLU activation in the hidden layer helps mitigate the vanishing gradient problem, and the sigmoid function in the output layer is appropriate for binary decision outputs."
      ],
      "metadata": {
        "id": "owaL7YQ232Hl"
      }
    },
    {
      "cell_type": "code",
      "source": [
        "classifier.compile(optimizer='adam', loss='binary_crossentropy', metrics=['accuracy'])"
      ],
      "metadata": {
        "id": "Nb0bp63k-Yfe"
      },
      "execution_count": 35,
      "outputs": []
    },
    {
      "cell_type": "code",
      "source": [
        "hist = classifier.fit(x_train, y_train, validation_data=(x_valid, y_valid), batch_size=32, epochs=100)"
      ],
      "metadata": {
        "colab": {
          "base_uri": "https://localhost:8080/"
        },
        "id": "W5tLO6wd47uT",
        "outputId": "58ebfe7a-5a1e-4e33-a70a-7ca2020f1308"
      },
      "execution_count": 36,
      "outputs": [
        {
          "output_type": "stream",
          "name": "stdout",
          "text": [
            "Epoch 1/100\n",
            "40/40 [==============================] - 3s 13ms/step - loss: 0.6643 - accuracy: 0.6123 - val_loss: 0.5120 - val_accuracy: 0.7962\n",
            "Epoch 2/100\n",
            "40/40 [==============================] - 0s 6ms/step - loss: 0.4842 - accuracy: 0.7930 - val_loss: 0.4513 - val_accuracy: 0.8089\n",
            "Epoch 3/100\n",
            "40/40 [==============================] - 0s 6ms/step - loss: 0.4380 - accuracy: 0.8073 - val_loss: 0.4306 - val_accuracy: 0.8057\n",
            "Epoch 4/100\n",
            "40/40 [==============================] - 0s 5ms/step - loss: 0.4105 - accuracy: 0.8153 - val_loss: 0.4187 - val_accuracy: 0.8153\n",
            "Epoch 5/100\n",
            "40/40 [==============================] - 0s 6ms/step - loss: 0.3891 - accuracy: 0.8288 - val_loss: 0.4096 - val_accuracy: 0.8153\n",
            "Epoch 6/100\n",
            "40/40 [==============================] - 0s 5ms/step - loss: 0.3730 - accuracy: 0.8336 - val_loss: 0.4022 - val_accuracy: 0.8153\n",
            "Epoch 7/100\n",
            "40/40 [==============================] - 0s 5ms/step - loss: 0.3599 - accuracy: 0.8424 - val_loss: 0.4018 - val_accuracy: 0.8057\n",
            "Epoch 8/100\n",
            "40/40 [==============================] - 0s 5ms/step - loss: 0.3490 - accuracy: 0.8519 - val_loss: 0.3965 - val_accuracy: 0.8089\n",
            "Epoch 9/100\n",
            "40/40 [==============================] - 0s 7ms/step - loss: 0.3404 - accuracy: 0.8575 - val_loss: 0.3960 - val_accuracy: 0.8121\n",
            "Epoch 10/100\n",
            "40/40 [==============================] - 0s 6ms/step - loss: 0.3311 - accuracy: 0.8583 - val_loss: 0.3950 - val_accuracy: 0.8121\n",
            "Epoch 11/100\n",
            "40/40 [==============================] - 0s 4ms/step - loss: 0.3242 - accuracy: 0.8599 - val_loss: 0.3954 - val_accuracy: 0.8089\n",
            "Epoch 12/100\n",
            "40/40 [==============================] - 0s 4ms/step - loss: 0.3182 - accuracy: 0.8766 - val_loss: 0.3943 - val_accuracy: 0.8121\n",
            "Epoch 13/100\n",
            "40/40 [==============================] - 0s 4ms/step - loss: 0.3116 - accuracy: 0.8734 - val_loss: 0.3960 - val_accuracy: 0.8089\n",
            "Epoch 14/100\n",
            "40/40 [==============================] - 0s 4ms/step - loss: 0.3050 - accuracy: 0.8814 - val_loss: 0.3962 - val_accuracy: 0.8089\n",
            "Epoch 15/100\n",
            "40/40 [==============================] - 0s 4ms/step - loss: 0.3004 - accuracy: 0.8798 - val_loss: 0.3965 - val_accuracy: 0.8089\n",
            "Epoch 16/100\n",
            "40/40 [==============================] - 0s 4ms/step - loss: 0.2948 - accuracy: 0.8830 - val_loss: 0.3984 - val_accuracy: 0.8089\n",
            "Epoch 17/100\n",
            "40/40 [==============================] - 0s 7ms/step - loss: 0.2903 - accuracy: 0.8846 - val_loss: 0.3992 - val_accuracy: 0.8057\n",
            "Epoch 18/100\n",
            "40/40 [==============================] - 0s 7ms/step - loss: 0.2860 - accuracy: 0.8854 - val_loss: 0.4016 - val_accuracy: 0.8025\n",
            "Epoch 19/100\n",
            "40/40 [==============================] - 0s 7ms/step - loss: 0.2813 - accuracy: 0.8893 - val_loss: 0.4002 - val_accuracy: 0.8121\n",
            "Epoch 20/100\n",
            "40/40 [==============================] - 0s 4ms/step - loss: 0.2790 - accuracy: 0.8893 - val_loss: 0.4000 - val_accuracy: 0.8153\n",
            "Epoch 21/100\n",
            "40/40 [==============================] - 0s 7ms/step - loss: 0.2745 - accuracy: 0.8933 - val_loss: 0.4039 - val_accuracy: 0.8185\n",
            "Epoch 22/100\n",
            "40/40 [==============================] - 0s 7ms/step - loss: 0.2705 - accuracy: 0.8909 - val_loss: 0.4046 - val_accuracy: 0.8089\n",
            "Epoch 23/100\n",
            "40/40 [==============================] - 0s 8ms/step - loss: 0.2672 - accuracy: 0.8917 - val_loss: 0.4041 - val_accuracy: 0.8185\n",
            "Epoch 24/100\n",
            "40/40 [==============================] - 0s 7ms/step - loss: 0.2639 - accuracy: 0.8957 - val_loss: 0.4077 - val_accuracy: 0.8153\n",
            "Epoch 25/100\n",
            "40/40 [==============================] - 0s 7ms/step - loss: 0.2604 - accuracy: 0.8965 - val_loss: 0.4062 - val_accuracy: 0.8248\n",
            "Epoch 26/100\n",
            "40/40 [==============================] - 0s 7ms/step - loss: 0.2574 - accuracy: 0.8981 - val_loss: 0.4073 - val_accuracy: 0.8217\n",
            "Epoch 27/100\n",
            "40/40 [==============================] - 0s 7ms/step - loss: 0.2543 - accuracy: 0.9013 - val_loss: 0.4090 - val_accuracy: 0.8153\n",
            "Epoch 28/100\n",
            "40/40 [==============================] - 0s 7ms/step - loss: 0.2512 - accuracy: 0.9045 - val_loss: 0.4111 - val_accuracy: 0.8057\n",
            "Epoch 29/100\n",
            "40/40 [==============================] - 0s 7ms/step - loss: 0.2466 - accuracy: 0.9100 - val_loss: 0.4115 - val_accuracy: 0.8089\n",
            "Epoch 30/100\n",
            "40/40 [==============================] - 0s 8ms/step - loss: 0.2432 - accuracy: 0.9092 - val_loss: 0.4117 - val_accuracy: 0.8089\n",
            "Epoch 31/100\n",
            "40/40 [==============================] - 0s 9ms/step - loss: 0.2403 - accuracy: 0.9108 - val_loss: 0.4119 - val_accuracy: 0.8153\n",
            "Epoch 32/100\n",
            "40/40 [==============================] - 0s 8ms/step - loss: 0.2378 - accuracy: 0.9116 - val_loss: 0.4159 - val_accuracy: 0.8089\n",
            "Epoch 33/100\n",
            "40/40 [==============================] - 0s 4ms/step - loss: 0.2337 - accuracy: 0.9140 - val_loss: 0.4167 - val_accuracy: 0.8025\n",
            "Epoch 34/100\n",
            "40/40 [==============================] - 0s 4ms/step - loss: 0.2311 - accuracy: 0.9204 - val_loss: 0.4167 - val_accuracy: 0.8089\n",
            "Epoch 35/100\n",
            "40/40 [==============================] - 0s 4ms/step - loss: 0.2277 - accuracy: 0.9148 - val_loss: 0.4210 - val_accuracy: 0.8153\n",
            "Epoch 36/100\n",
            "40/40 [==============================] - 0s 4ms/step - loss: 0.2246 - accuracy: 0.9196 - val_loss: 0.4218 - val_accuracy: 0.8121\n",
            "Epoch 37/100\n",
            "40/40 [==============================] - 0s 4ms/step - loss: 0.2222 - accuracy: 0.9204 - val_loss: 0.4241 - val_accuracy: 0.8089\n",
            "Epoch 38/100\n",
            "40/40 [==============================] - 0s 4ms/step - loss: 0.2206 - accuracy: 0.9180 - val_loss: 0.4259 - val_accuracy: 0.8025\n",
            "Epoch 39/100\n",
            "40/40 [==============================] - 0s 4ms/step - loss: 0.2168 - accuracy: 0.9236 - val_loss: 0.4268 - val_accuracy: 0.8153\n",
            "Epoch 40/100\n",
            "40/40 [==============================] - 0s 4ms/step - loss: 0.2143 - accuracy: 0.9268 - val_loss: 0.4331 - val_accuracy: 0.7994\n",
            "Epoch 41/100\n",
            "40/40 [==============================] - 0s 4ms/step - loss: 0.2116 - accuracy: 0.9236 - val_loss: 0.4311 - val_accuracy: 0.8025\n",
            "Epoch 42/100\n",
            "40/40 [==============================] - 0s 4ms/step - loss: 0.2089 - accuracy: 0.9275 - val_loss: 0.4346 - val_accuracy: 0.8089\n",
            "Epoch 43/100\n",
            "40/40 [==============================] - 0s 4ms/step - loss: 0.2064 - accuracy: 0.9275 - val_loss: 0.4381 - val_accuracy: 0.8089\n",
            "Epoch 44/100\n",
            "40/40 [==============================] - 0s 4ms/step - loss: 0.2038 - accuracy: 0.9283 - val_loss: 0.4361 - val_accuracy: 0.8057\n",
            "Epoch 45/100\n",
            "40/40 [==============================] - 0s 4ms/step - loss: 0.2008 - accuracy: 0.9283 - val_loss: 0.4395 - val_accuracy: 0.7994\n",
            "Epoch 46/100\n",
            "40/40 [==============================] - 0s 4ms/step - loss: 0.1988 - accuracy: 0.9291 - val_loss: 0.4444 - val_accuracy: 0.8057\n",
            "Epoch 47/100\n",
            "40/40 [==============================] - 0s 4ms/step - loss: 0.1955 - accuracy: 0.9307 - val_loss: 0.4422 - val_accuracy: 0.7994\n",
            "Epoch 48/100\n",
            "40/40 [==============================] - 0s 4ms/step - loss: 0.1935 - accuracy: 0.9268 - val_loss: 0.4478 - val_accuracy: 0.8057\n",
            "Epoch 49/100\n",
            "40/40 [==============================] - 0s 4ms/step - loss: 0.1909 - accuracy: 0.9283 - val_loss: 0.4488 - val_accuracy: 0.8121\n",
            "Epoch 50/100\n",
            "40/40 [==============================] - 0s 4ms/step - loss: 0.1891 - accuracy: 0.9331 - val_loss: 0.4505 - val_accuracy: 0.8057\n",
            "Epoch 51/100\n",
            "40/40 [==============================] - 0s 4ms/step - loss: 0.1864 - accuracy: 0.9347 - val_loss: 0.4577 - val_accuracy: 0.8089\n",
            "Epoch 52/100\n",
            "40/40 [==============================] - 0s 4ms/step - loss: 0.1834 - accuracy: 0.9355 - val_loss: 0.4549 - val_accuracy: 0.8057\n",
            "Epoch 53/100\n",
            "40/40 [==============================] - 0s 4ms/step - loss: 0.1807 - accuracy: 0.9355 - val_loss: 0.4564 - val_accuracy: 0.8153\n",
            "Epoch 54/100\n",
            "40/40 [==============================] - 0s 4ms/step - loss: 0.1798 - accuracy: 0.9427 - val_loss: 0.4618 - val_accuracy: 0.8057\n",
            "Epoch 55/100\n",
            "40/40 [==============================] - 0s 4ms/step - loss: 0.1766 - accuracy: 0.9339 - val_loss: 0.4623 - val_accuracy: 0.8025\n",
            "Epoch 56/100\n",
            "40/40 [==============================] - 0s 4ms/step - loss: 0.1756 - accuracy: 0.9403 - val_loss: 0.4602 - val_accuracy: 0.8089\n",
            "Epoch 57/100\n",
            "40/40 [==============================] - 0s 4ms/step - loss: 0.1716 - accuracy: 0.9419 - val_loss: 0.4658 - val_accuracy: 0.8057\n",
            "Epoch 58/100\n",
            "40/40 [==============================] - 0s 4ms/step - loss: 0.1696 - accuracy: 0.9459 - val_loss: 0.4640 - val_accuracy: 0.8089\n",
            "Epoch 59/100\n",
            "40/40 [==============================] - 0s 4ms/step - loss: 0.1678 - accuracy: 0.9403 - val_loss: 0.4681 - val_accuracy: 0.8153\n",
            "Epoch 60/100\n",
            "40/40 [==============================] - 0s 5ms/step - loss: 0.1650 - accuracy: 0.9443 - val_loss: 0.4737 - val_accuracy: 0.8089\n",
            "Epoch 61/100\n",
            "40/40 [==============================] - 0s 6ms/step - loss: 0.1631 - accuracy: 0.9419 - val_loss: 0.4713 - val_accuracy: 0.8185\n",
            "Epoch 62/100\n",
            "40/40 [==============================] - 0s 6ms/step - loss: 0.1606 - accuracy: 0.9490 - val_loss: 0.4744 - val_accuracy: 0.8025\n",
            "Epoch 63/100\n",
            "40/40 [==============================] - 0s 6ms/step - loss: 0.1611 - accuracy: 0.9459 - val_loss: 0.4767 - val_accuracy: 0.8025\n",
            "Epoch 64/100\n",
            "40/40 [==============================] - 0s 6ms/step - loss: 0.1579 - accuracy: 0.9482 - val_loss: 0.4794 - val_accuracy: 0.8057\n",
            "Epoch 65/100\n",
            "40/40 [==============================] - 0s 6ms/step - loss: 0.1552 - accuracy: 0.9482 - val_loss: 0.4812 - val_accuracy: 0.8057\n",
            "Epoch 66/100\n",
            "40/40 [==============================] - 0s 5ms/step - loss: 0.1531 - accuracy: 0.9490 - val_loss: 0.4829 - val_accuracy: 0.8057\n",
            "Epoch 67/100\n",
            "40/40 [==============================] - 0s 6ms/step - loss: 0.1516 - accuracy: 0.9482 - val_loss: 0.4821 - val_accuracy: 0.8089\n",
            "Epoch 68/100\n",
            "40/40 [==============================] - 0s 7ms/step - loss: 0.1506 - accuracy: 0.9522 - val_loss: 0.4899 - val_accuracy: 0.8089\n",
            "Epoch 69/100\n",
            "40/40 [==============================] - 0s 5ms/step - loss: 0.1487 - accuracy: 0.9490 - val_loss: 0.4864 - val_accuracy: 0.8089\n",
            "Epoch 70/100\n",
            "40/40 [==============================] - 0s 6ms/step - loss: 0.1469 - accuracy: 0.9562 - val_loss: 0.4922 - val_accuracy: 0.8089\n",
            "Epoch 71/100\n",
            "40/40 [==============================] - 0s 6ms/step - loss: 0.1440 - accuracy: 0.9522 - val_loss: 0.4966 - val_accuracy: 0.8057\n",
            "Epoch 72/100\n",
            "40/40 [==============================] - 0s 4ms/step - loss: 0.1448 - accuracy: 0.9586 - val_loss: 0.4987 - val_accuracy: 0.8089\n",
            "Epoch 73/100\n",
            "40/40 [==============================] - 0s 4ms/step - loss: 0.1416 - accuracy: 0.9578 - val_loss: 0.4981 - val_accuracy: 0.8057\n",
            "Epoch 74/100\n",
            "40/40 [==============================] - 0s 4ms/step - loss: 0.1400 - accuracy: 0.9570 - val_loss: 0.5036 - val_accuracy: 0.8025\n",
            "Epoch 75/100\n",
            "40/40 [==============================] - 0s 4ms/step - loss: 0.1370 - accuracy: 0.9594 - val_loss: 0.5033 - val_accuracy: 0.8057\n",
            "Epoch 76/100\n",
            "40/40 [==============================] - 0s 4ms/step - loss: 0.1358 - accuracy: 0.9578 - val_loss: 0.5052 - val_accuracy: 0.7994\n",
            "Epoch 77/100\n",
            "40/40 [==============================] - 0s 4ms/step - loss: 0.1354 - accuracy: 0.9610 - val_loss: 0.5101 - val_accuracy: 0.8089\n",
            "Epoch 78/100\n",
            "40/40 [==============================] - 0s 4ms/step - loss: 0.1334 - accuracy: 0.9586 - val_loss: 0.5112 - val_accuracy: 0.8025\n",
            "Epoch 79/100\n",
            "40/40 [==============================] - 0s 4ms/step - loss: 0.1307 - accuracy: 0.9650 - val_loss: 0.5113 - val_accuracy: 0.8025\n",
            "Epoch 80/100\n",
            "40/40 [==============================] - 0s 4ms/step - loss: 0.1297 - accuracy: 0.9658 - val_loss: 0.5125 - val_accuracy: 0.8057\n",
            "Epoch 81/100\n",
            "40/40 [==============================] - 0s 4ms/step - loss: 0.1292 - accuracy: 0.9626 - val_loss: 0.5137 - val_accuracy: 0.8089\n",
            "Epoch 82/100\n",
            "40/40 [==============================] - 0s 4ms/step - loss: 0.1271 - accuracy: 0.9674 - val_loss: 0.5204 - val_accuracy: 0.8057\n",
            "Epoch 83/100\n",
            "40/40 [==============================] - 0s 4ms/step - loss: 0.1254 - accuracy: 0.9650 - val_loss: 0.5190 - val_accuracy: 0.8089\n",
            "Epoch 84/100\n",
            "40/40 [==============================] - 0s 4ms/step - loss: 0.1237 - accuracy: 0.9682 - val_loss: 0.5253 - val_accuracy: 0.8121\n",
            "Epoch 85/100\n",
            "40/40 [==============================] - 0s 4ms/step - loss: 0.1222 - accuracy: 0.9682 - val_loss: 0.5267 - val_accuracy: 0.8025\n",
            "Epoch 86/100\n",
            "40/40 [==============================] - 0s 4ms/step - loss: 0.1215 - accuracy: 0.9674 - val_loss: 0.5328 - val_accuracy: 0.8121\n",
            "Epoch 87/100\n",
            "40/40 [==============================] - 0s 4ms/step - loss: 0.1198 - accuracy: 0.9674 - val_loss: 0.5277 - val_accuracy: 0.8025\n",
            "Epoch 88/100\n",
            "40/40 [==============================] - 0s 4ms/step - loss: 0.1188 - accuracy: 0.9682 - val_loss: 0.5319 - val_accuracy: 0.8025\n",
            "Epoch 89/100\n",
            "40/40 [==============================] - 0s 4ms/step - loss: 0.1174 - accuracy: 0.9705 - val_loss: 0.5385 - val_accuracy: 0.8121\n",
            "Epoch 90/100\n",
            "40/40 [==============================] - 0s 4ms/step - loss: 0.1158 - accuracy: 0.9674 - val_loss: 0.5348 - val_accuracy: 0.8025\n",
            "Epoch 91/100\n",
            "40/40 [==============================] - 0s 4ms/step - loss: 0.1145 - accuracy: 0.9658 - val_loss: 0.5367 - val_accuracy: 0.8089\n",
            "Epoch 92/100\n",
            "40/40 [==============================] - 0s 4ms/step - loss: 0.1127 - accuracy: 0.9705 - val_loss: 0.5393 - val_accuracy: 0.8057\n",
            "Epoch 93/100\n",
            "40/40 [==============================] - 0s 4ms/step - loss: 0.1107 - accuracy: 0.9721 - val_loss: 0.5450 - val_accuracy: 0.8025\n",
            "Epoch 94/100\n",
            "40/40 [==============================] - 0s 4ms/step - loss: 0.1102 - accuracy: 0.9697 - val_loss: 0.5442 - val_accuracy: 0.8057\n",
            "Epoch 95/100\n",
            "40/40 [==============================] - 0s 4ms/step - loss: 0.1091 - accuracy: 0.9721 - val_loss: 0.5491 - val_accuracy: 0.8089\n",
            "Epoch 96/100\n",
            "40/40 [==============================] - 0s 4ms/step - loss: 0.1091 - accuracy: 0.9705 - val_loss: 0.5498 - val_accuracy: 0.7994\n",
            "Epoch 97/100\n",
            "40/40 [==============================] - 0s 4ms/step - loss: 0.1067 - accuracy: 0.9737 - val_loss: 0.5532 - val_accuracy: 0.8057\n",
            "Epoch 98/100\n",
            "40/40 [==============================] - 0s 4ms/step - loss: 0.1061 - accuracy: 0.9737 - val_loss: 0.5544 - val_accuracy: 0.8057\n",
            "Epoch 99/100\n",
            "40/40 [==============================] - 0s 4ms/step - loss: 0.1042 - accuracy: 0.9721 - val_loss: 0.5609 - val_accuracy: 0.7994\n",
            "Epoch 100/100\n",
            "40/40 [==============================] - 0s 4ms/step - loss: 0.1034 - accuracy: 0.9753 - val_loss: 0.5624 - val_accuracy: 0.8025\n"
          ]
        }
      ]
    },
    {
      "cell_type": "markdown",
      "source": [
        "The code snippet involves compiling and training a neural network model on the loan application dataset. The model is compiled with the Adam optimizer, binary cross-entropy loss function, and tracks accuracy as the metric. Training is conducted over 100 epochs with a batch size of 32.\n",
        "\n",
        "The output shows the model's performance across epochs, including training and validation loss and accuracy. Initially, both training and validation accuracy improve, but as epochs increase, the training accuracy continues to rise (reaching 97.53% by epoch 100), while the validation accuracy plateaus around 80%. This pattern suggests the model might be overfitting to the training data, as indicated by the increasing gap between training and validation accuracy. To address this, techniques like adding dropout layers, implementing early stopping, or adjusting the model's complexity could be considered."
      ],
      "metadata": {
        "id": "BPcO_AKF4PLV"
      }
    },
    {
      "cell_type": "code",
      "source": [
        "# Model Prediction and Evaluation\n",
        "\n",
        "from sklearn.metrics import accuracy_score\n",
        "y_pred = classifier.predict(x_valid)\n",
        "y_pred = (y_pred > 0.5)\n",
        "print(\"Accuracy : {0}%\".format(accuracy_score(y_valid, y_pred)*100))"
      ],
      "metadata": {
        "colab": {
          "base_uri": "https://localhost:8080/"
        },
        "id": "eadr20N947xa",
        "outputId": "ca8e4a0b-93bf-4fe2-e19b-c52241fb9fed"
      },
      "execution_count": 37,
      "outputs": [
        {
          "output_type": "stream",
          "name": "stdout",
          "text": [
            "10/10 [==============================] - 0s 2ms/step\n",
            "Accuracy : 80.2547770700637%\n"
          ]
        }
      ]
    },
    {
      "cell_type": "markdown",
      "source": [
        "The code evaluates a neural network model on a validation dataset. It calculates the accuracy, which is approximately 80.25%, indicating the model's performance in correctly predicting outcomes."
      ],
      "metadata": {
        "id": "i6eZSyLJ4xSA"
      }
    },
    {
      "cell_type": "code",
      "source": [
        "# Validation with visualisation\n",
        "\n",
        "import matplotlib.pyplot as plt\n",
        "plt.style.use('ggplot')\n",
        "plt.plot(np.arange(0,100), hist.history['accuracy'], label='train accuracy', color='black')\n",
        "plt.plot(np.arange(0,100), hist.history['val_accuracy'], label='test accuracy', color='red')\n",
        "plt.title(\"Training vs Validation Accuracy\")\n",
        "plt.xlabel(\"Epochs\")\n",
        "plt.ylabel(\"Accuracy\")\n",
        "plt.legend()\n",
        "plt.show()"
      ],
      "metadata": {
        "colab": {
          "base_uri": "https://localhost:8080/",
          "height": 477
        },
        "id": "34w2NM5HAfdP",
        "outputId": "02fa33da-f37e-42c2-c5a3-08e527010555"
      },
      "execution_count": 38,
      "outputs": [
        {
          "output_type": "display_data",
          "data": {
            "text/plain": [
              "<Figure size 640x480 with 1 Axes>"
            ],
            "image/png": "[encoded data removed]"
          },
          "metadata": {}
        }
      ]
    },
    {
      "cell_type": "markdown",
      "source": [
        "The graph shows the training accuracy of a machine learning model increasing to near 98% over 100 epochs, indicating good learning on the training set. However, the validation accuracy plateaus around 80%, suggesting the model is overfitting as it does not generalize as well to new data. There's a notable gap between the training and validation accuracy, highlighting the need for strategies to mitigate overfitting."
      ],
      "metadata": {
        "id": "kvfcoFDS0xQQ"
      }
    },
    {
      "cell_type": "code",
      "source": [
        "import matplotlib.pyplot as plt\n",
        "plt.style.use('ggplot')\n",
        "plt.plot(np.arange(0,100), hist.history['loss'], label='train loss', color='black')\n",
        "plt.plot(np.arange(0,100), hist.history['val_loss'], label='test loss', color='red')\n",
        "plt.title(\"Training vs Validation Accuracy\")\n",
        "plt.xlabel(\"Epochs\")\n",
        "plt.ylabel(\"Accuracy\")\n",
        "plt.legend()\n",
        "plt.show()"
      ],
      "metadata": {
        "colab": {
          "base_uri": "https://localhost:8080/",
          "height": 477
        },
        "id": "qoMw0CaVBSUX",
        "outputId": "1bfd0079-6ec6-4ae3-d3d6-093ff4304902"
      },
      "execution_count": 39,
      "outputs": [
        {
          "output_type": "display_data",
          "data": {
            "text/plain": [
              "<Figure size 640x480 with 1 Axes>"
            ],
            "image/png": "[encoded data removed]"
          },
          "metadata": {}
        }
      ]
    },
    {
      "cell_type": "markdown",
      "source": [
        "The graph should depict loss over epochs, not accuracy, as indicated by the code snippet. It shows training loss decreasing, which is good, but validation loss increases after an initial drop, suggesting overfitting. The labels in the graph need correction to reflect loss, not accuracy."
      ],
      "metadata": {
        "id": "8ZdfovXx1l5e"
      }
    },
    {
      "cell_type": "code",
      "source": [],
      "metadata": {
        "id": "o3cqQ4zp473d"
      },
      "execution_count": null,
      "outputs": []
    }
  ]
}