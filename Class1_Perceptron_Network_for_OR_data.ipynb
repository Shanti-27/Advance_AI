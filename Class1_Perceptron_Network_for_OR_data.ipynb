{
  "nbformat": 4,
  "nbformat_minor": 0,
  "metadata": {
    "colab": {
      "provenance": [],
      "gpuType": "T4"
    },
    "kernelspec": {
      "name": "python3",
      "display_name": "Python 3"
    },
    "language_info": {
      "name": "python"
    },
    "accelerator": "GPU"
  },
  "cells": [
    {
      "cell_type": "markdown",
      "source": [
        "# Data : we shall generate the OR data\n",
        "\n",
        "x1 x2  --> y\n",
        "\n",
        "0 0 --> 0\n",
        "\n",
        "0 1 --> 1\n",
        "\n",
        "1 0 --> 1\n",
        "\n",
        "1 1 --> 1"
      ],
      "metadata": {
        "id": "NDqDqOInsBkn"
      }
    },
    {
      "cell_type": "code",
      "execution_count": 1,
      "metadata": {
        "id": "ULlemaK4r4Ut"
      },
      "outputs": [],
      "source": [
        "import numpy as np\n",
        "num_imputs = 4"
      ]
    },
    {
      "cell_type": "code",
      "source": [
        "input_array = np.array([[0,0],[0,1],[1,0],[1,1]])\n",
        "input_array"
      ],
      "metadata": {
        "colab": {
          "base_uri": "https://localhost:8080/"
        },
        "id": "BHJ7PJoCs43w",
        "outputId": "3e9d6a26-3b5b-47ca-af08-7ae3ee2d312b"
      },
      "execution_count": 2,
      "outputs": [
        {
          "output_type": "execute_result",
          "data": {
            "text/plain": [
              "array([[0, 0],\n",
              "       [0, 1],\n",
              "       [1, 0],\n",
              "       [1, 1]])"
            ]
          },
          "metadata": {},
          "execution_count": 2
        }
      ]
    },
    {
      "cell_type": "code",
      "source": [
        "# output data -- OR Function\n",
        "output_array = np.array([0,1,1,1])\n",
        "output_array"
      ],
      "metadata": {
        "colab": {
          "base_uri": "https://localhost:8080/"
        },
        "id": "-55l6rEvtAmA",
        "outputId": "e0235ddd-c63d-4cc1-feb0-6e248c555321"
      },
      "execution_count": 3,
      "outputs": [
        {
          "output_type": "execute_result",
          "data": {
            "text/plain": [
              "array([0, 1, 1, 1])"
            ]
          },
          "metadata": {},
          "execution_count": 3
        }
      ]
    },
    {
      "cell_type": "markdown",
      "source": [
        "# Perceptron Model\n",
        "## Importing libraries"
      ],
      "metadata": {
        "id": "Fv99dNQXtNrq"
      }
    },
    {
      "cell_type": "code",
      "source": [
        "from tensorflow.keras.models import Sequential\n",
        "from tensorflow.keras.layers import Dense\n",
        "from tensorflow.keras.optimizers import SGD"
      ],
      "metadata": {
        "id": "7L5_RtH6tL9i"
      },
      "execution_count": null,
      "outputs": []
    },
    {
      "cell_type": "markdown",
      "source": [
        "1. **Importing Sequential from tensorflow.keras.models:**\n",
        "\n",
        "Sequential is a way to create a model in TensorFlow. Think of it as a container where you add layers one by one in the order they should process data.\n",
        "Example: Imagine building a robot. You start with the frame (Sequential), and then you'll add parts to it in a specific order.\n",
        "\n",
        "2. **Importing Dense from tensorflow.keras.layers:**\n",
        "\n",
        "Dense is a type of layer used in neural networks, where every neuron (basic unit of computation in neural networks) is connected to all neurons in the previous layer.\n",
        "Example: Now, in our robot, we add a layer of sensors (Dense layer). Each sensor is connected to all parts of the previous layer, say the frame, to gather information.\n",
        "\n",
        "3. **Importing SGD from tensorflow.keras.optimizers:**\n",
        "\n",
        "SGD stands for Stochastic Gradient Descent. It's an optimizer that helps to minimize the errors the model makes during training. In simple terms, it's like a guide that tells the model how to improve itself.\n",
        "Example: Think of SGD as a robot technician who adjusts and fine-tunes the robot (our model) to perform better based on the errors it makes during its tasks.\n",
        "\n",
        "**Putting it all together:**\n",
        "\n",
        "A. You first create a model (Sequential).\n",
        "\n",
        "B. Then you add layers to it (Dense), like adding sensors and parts to our robot.\n",
        "\n",
        "C. Finally, you use an optimizer (SGD) to improve its performance, like a technician who tunes the robot for better efficiency."
      ],
      "metadata": {
        "id": "oRICr56LQerI"
      }
    },
    {
      "cell_type": "markdown",
      "source": [
        "# Model Definition"
      ],
      "metadata": {
        "id": "QrLivpLhuFBW"
      }
    },
    {
      "cell_type": "code",
      "source": [
        "classifier = Sequential()\n",
        "classifier.add(Dense(input_shape=(2,), units=1, activation='sigmoid'))\n",
        "# bias term is added by default\n",
        "classifier.summary()"
      ],
      "metadata": {
        "colab": {
          "base_uri": "https://localhost:8080/"
        },
        "id": "FmtA5ql9r87K",
        "outputId": "0ca357c3-ff93-4a5c-f9f0-26faee14f08d"
      },
      "execution_count": null,
      "outputs": [
        {
          "output_type": "stream",
          "name": "stdout",
          "text": [
            "Model: \"sequential\"\n",
            "_________________________________________________________________\n",
            " Layer (type)                Output Shape              Param #   \n",
            "=================================================================\n",
            " dense (Dense)               (None, 1)                 3         \n",
            "                                                                 \n",
            "=================================================================\n",
            "Total params: 3 (12.00 Byte)\n",
            "Trainable params: 3 (12.00 Byte)\n",
            "Non-trainable params: 0 (0.00 Byte)\n",
            "_________________________________________________________________\n"
          ]
        }
      ]
    },
    {
      "cell_type": "markdown",
      "source": [
        "The output shows a summary of a simple neural network model, named \"sequential\", created using TensorFlow's Keras API. This model consists of a single layer, which is a Dense layer. Key insights from this summary are:\n",
        "\n",
        "1. Layer Type: The model has one layer, which is a Dense layer. This type of layer is fully connected, meaning each input neuron is connected to each output neuron.\n",
        "\n",
        "2. Output Shape: The output shape of this layer is (None, 1). This means that for each input instance, the layer produces a single output. The None in the shape represents the batch size, which can vary.\n",
        "\n",
        "3. Parameters: There are 3 parameters in total. In a Dense layer, parameters are generally the weights and biases. Since the input shape is (2,) (indicating two input features) and the layer has 1 neuron, there are 2 weights (one for each input feature) and 1 bias (added by default), totaling 3 parameters.\n",
        "\n",
        "4. Trainable Parameters: All 3 parameters are trainable, meaning they will be updated during the training process to minimize the model's error.\n",
        "\n",
        "5. Non-trainable Parameters: There are no non-trainable parameters in this model.\n",
        "\n",
        "The purpose of this model is to perform a simple form of classification or regression with an input of 2 features. The sigmoid activation function suggests it's likely used for a binary classification task, where the output would be a probability between 0 and 1, indicating the likelihood of belonging to a certain class. The model is very basic and is likely for educational or demonstration purposes due to its simplicity."
      ],
      "metadata": {
        "id": "VRLLcgzTSS8g"
      }
    },
    {
      "cell_type": "code",
      "source": [
        "classifier.compile(optimizer=SGD(learning_rate=0.5), loss='binary_crossentropy', metrics=['accuracy'])"
      ],
      "metadata": {
        "id": "2Zq8lLd-uuiK"
      },
      "execution_count": null,
      "outputs": []
    },
    {
      "cell_type": "markdown",
      "source": [
        "This line of code is configuring the training process for the neural network model named classifier. Let's break it down:\n",
        "\n",
        "1. Compile Method: The compile method is used to configure how the model learns during training. It sets up important aspects like the optimizer, loss function, and metrics.\n",
        "\n",
        "2. Optimizer - SGD: Here, Stochastic Gradient Descent (SGD) is used as the optimizer with a learning rate of 0.5. The optimizer is an algorithm that adjusts the weights of the network to minimize the loss. The learning rate controls how much the weights are adjusted during training, with a higher rate potentially leading to faster learning but also a risk of overshooting the optimal solution.\n",
        "\n",
        "3. Loss Function - binary_crossentropy: The loss function chosen is 'binary_crossentropy', which is commonly used for binary classification tasks. This function measures how far off the predictions are from the actual labels (0 or 1 in binary classification) and the model aims to minimize this value during training.\n",
        "\n",
        "4. Metrics - ['accuracy']: The model will track 'accuracy' during training and evaluation. Accuracy is the fraction of correctly classified instances among the total instances.\n",
        "\n",
        "I"
      ],
      "metadata": {
        "id": "UZEV03cITJ2F"
      }
    },
    {
      "cell_type": "code",
      "source": [
        "classifier.fit(input_array, output_array, epochs=100)"
      ],
      "metadata": {
        "colab": {
          "base_uri": "https://localhost:8080/"
        },
        "id": "IFgHtc_avIu2",
        "outputId": "299baed1-885b-4e4c-dfe8-3b97359d19b9"
      },
      "execution_count": null,
      "outputs": [
        {
          "output_type": "stream",
          "name": "stdout",
          "text": [
            "Epoch 1/100\n",
            "1/1 [==============================] - 4s 4s/step - loss: 0.7705 - accuracy: 0.5000\n",
            "Epoch 2/100\n",
            "1/1 [==============================] - 0s 12ms/step - loss: 0.6654 - accuracy: 0.5000\n",
            "Epoch 3/100\n",
            "1/1 [==============================] - 0s 13ms/step - loss: 0.5952 - accuracy: 0.7500\n",
            "Epoch 4/100\n",
            "1/1 [==============================] - 0s 11ms/step - loss: 0.5471 - accuracy: 0.7500\n",
            "Epoch 5/100\n",
            "1/1 [==============================] - 0s 14ms/step - loss: 0.5130 - accuracy: 0.7500\n",
            "Epoch 6/100\n",
            "1/1 [==============================] - 0s 11ms/step - loss: 0.4877 - accuracy: 0.7500\n",
            "Epoch 7/100\n",
            "1/1 [==============================] - 0s 11ms/step - loss: 0.4682 - accuracy: 0.7500\n",
            "Epoch 8/100\n",
            "1/1 [==============================] - 0s 10ms/step - loss: 0.4525 - accuracy: 0.7500\n",
            "Epoch 9/100\n",
            "1/1 [==============================] - 0s 13ms/step - loss: 0.4395 - accuracy: 0.7500\n",
            "Epoch 10/100\n",
            "1/1 [==============================] - 0s 11ms/step - loss: 0.4284 - accuracy: 0.7500\n",
            "Epoch 11/100\n",
            "1/1 [==============================] - 0s 11ms/step - loss: 0.4187 - accuracy: 0.7500\n",
            "Epoch 12/100\n",
            "1/1 [==============================] - 0s 11ms/step - loss: 0.4100 - accuracy: 0.7500\n",
            "Epoch 13/100\n",
            "1/1 [==============================] - 0s 10ms/step - loss: 0.4021 - accuracy: 0.7500\n",
            "Epoch 14/100\n",
            "1/1 [==============================] - 0s 11ms/step - loss: 0.3948 - accuracy: 0.7500\n",
            "Epoch 15/100\n",
            "1/1 [==============================] - 0s 12ms/step - loss: 0.3879 - accuracy: 0.7500\n",
            "Epoch 16/100\n",
            "1/1 [==============================] - 0s 12ms/step - loss: 0.3815 - accuracy: 0.7500\n",
            "Epoch 17/100\n",
            "1/1 [==============================] - 0s 11ms/step - loss: 0.3753 - accuracy: 0.7500\n",
            "Epoch 18/100\n",
            "1/1 [==============================] - 0s 12ms/step - loss: 0.3695 - accuracy: 0.7500\n",
            "Epoch 19/100\n",
            "1/1 [==============================] - 0s 11ms/step - loss: 0.3639 - accuracy: 0.7500\n",
            "Epoch 20/100\n",
            "1/1 [==============================] - 0s 11ms/step - loss: 0.3585 - accuracy: 0.7500\n",
            "Epoch 21/100\n",
            "1/1 [==============================] - 0s 11ms/step - loss: 0.3533 - accuracy: 0.7500\n",
            "Epoch 22/100\n",
            "1/1 [==============================] - 0s 10ms/step - loss: 0.3482 - accuracy: 0.7500\n",
            "Epoch 23/100\n",
            "1/1 [==============================] - 0s 9ms/step - loss: 0.3433 - accuracy: 0.7500\n",
            "Epoch 24/100\n",
            "1/1 [==============================] - 0s 11ms/step - loss: 0.3386 - accuracy: 0.7500\n",
            "Epoch 25/100\n",
            "1/1 [==============================] - 0s 12ms/step - loss: 0.3339 - accuracy: 0.7500\n",
            "Epoch 26/100\n",
            "1/1 [==============================] - 0s 11ms/step - loss: 0.3294 - accuracy: 0.7500\n",
            "Epoch 27/100\n",
            "1/1 [==============================] - 0s 11ms/step - loss: 0.3250 - accuracy: 0.7500\n",
            "Epoch 28/100\n",
            "1/1 [==============================] - 0s 11ms/step - loss: 0.3208 - accuracy: 0.7500\n",
            "Epoch 29/100\n",
            "1/1 [==============================] - 0s 12ms/step - loss: 0.3166 - accuracy: 0.7500\n",
            "Epoch 30/100\n",
            "1/1 [==============================] - 0s 11ms/step - loss: 0.3125 - accuracy: 0.7500\n",
            "Epoch 31/100\n",
            "1/1 [==============================] - 0s 10ms/step - loss: 0.3086 - accuracy: 0.7500\n",
            "Epoch 32/100\n",
            "1/1 [==============================] - 0s 9ms/step - loss: 0.3047 - accuracy: 0.7500\n",
            "Epoch 33/100\n",
            "1/1 [==============================] - 0s 12ms/step - loss: 0.3009 - accuracy: 0.7500\n",
            "Epoch 34/100\n",
            "1/1 [==============================] - 0s 9ms/step - loss: 0.2972 - accuracy: 0.7500\n",
            "Epoch 35/100\n",
            "1/1 [==============================] - 0s 10ms/step - loss: 0.2935 - accuracy: 0.7500\n",
            "Epoch 36/100\n",
            "1/1 [==============================] - 0s 10ms/step - loss: 0.2900 - accuracy: 0.7500\n",
            "Epoch 37/100\n",
            "1/1 [==============================] - 0s 10ms/step - loss: 0.2865 - accuracy: 0.7500\n",
            "Epoch 38/100\n",
            "1/1 [==============================] - 0s 10ms/step - loss: 0.2831 - accuracy: 0.7500\n",
            "Epoch 39/100\n",
            "1/1 [==============================] - 0s 11ms/step - loss: 0.2798 - accuracy: 0.7500\n",
            "Epoch 40/100\n",
            "1/1 [==============================] - 0s 11ms/step - loss: 0.2766 - accuracy: 0.7500\n",
            "Epoch 41/100\n",
            "1/1 [==============================] - 0s 11ms/step - loss: 0.2734 - accuracy: 0.7500\n",
            "Epoch 42/100\n",
            "1/1 [==============================] - 0s 11ms/step - loss: 0.2703 - accuracy: 1.0000\n",
            "Epoch 43/100\n",
            "1/1 [==============================] - 0s 10ms/step - loss: 0.2672 - accuracy: 1.0000\n",
            "Epoch 44/100\n",
            "1/1 [==============================] - 0s 13ms/step - loss: 0.2642 - accuracy: 1.0000\n",
            "Epoch 45/100\n",
            "1/1 [==============================] - 0s 15ms/step - loss: 0.2613 - accuracy: 1.0000\n",
            "Epoch 46/100\n",
            "1/1 [==============================] - 0s 9ms/step - loss: 0.2584 - accuracy: 1.0000\n",
            "Epoch 47/100\n",
            "1/1 [==============================] - 0s 12ms/step - loss: 0.2556 - accuracy: 1.0000\n",
            "Epoch 48/100\n",
            "1/1 [==============================] - 0s 11ms/step - loss: 0.2528 - accuracy: 1.0000\n",
            "Epoch 49/100\n",
            "1/1 [==============================] - 0s 10ms/step - loss: 0.2501 - accuracy: 1.0000\n",
            "Epoch 50/100\n",
            "1/1 [==============================] - 0s 11ms/step - loss: 0.2475 - accuracy: 1.0000\n",
            "Epoch 51/100\n",
            "1/1 [==============================] - 0s 11ms/step - loss: 0.2449 - accuracy: 1.0000\n",
            "Epoch 52/100\n",
            "1/1 [==============================] - 0s 13ms/step - loss: 0.2424 - accuracy: 1.0000\n",
            "Epoch 53/100\n",
            "1/1 [==============================] - 0s 16ms/step - loss: 0.2399 - accuracy: 1.0000\n",
            "Epoch 54/100\n",
            "1/1 [==============================] - 0s 11ms/step - loss: 0.2374 - accuracy: 1.0000\n",
            "Epoch 55/100\n",
            "1/1 [==============================] - 0s 11ms/step - loss: 0.2350 - accuracy: 1.0000\n",
            "Epoch 56/100\n",
            "1/1 [==============================] - 0s 9ms/step - loss: 0.2326 - accuracy: 1.0000\n",
            "Epoch 57/100\n",
            "1/1 [==============================] - 0s 13ms/step - loss: 0.2303 - accuracy: 1.0000\n",
            "Epoch 58/100\n",
            "1/1 [==============================] - 0s 13ms/step - loss: 0.2280 - accuracy: 1.0000\n",
            "Epoch 59/100\n",
            "1/1 [==============================] - 0s 11ms/step - loss: 0.2258 - accuracy: 1.0000\n",
            "Epoch 60/100\n",
            "1/1 [==============================] - 0s 9ms/step - loss: 0.2236 - accuracy: 1.0000\n",
            "Epoch 61/100\n",
            "1/1 [==============================] - 0s 9ms/step - loss: 0.2215 - accuracy: 1.0000\n",
            "Epoch 62/100\n",
            "1/1 [==============================] - 0s 13ms/step - loss: 0.2193 - accuracy: 1.0000\n",
            "Epoch 63/100\n",
            "1/1 [==============================] - 0s 10ms/step - loss: 0.2173 - accuracy: 1.0000\n",
            "Epoch 64/100\n",
            "1/1 [==============================] - 0s 11ms/step - loss: 0.2152 - accuracy: 1.0000\n",
            "Epoch 65/100\n",
            "1/1 [==============================] - 0s 12ms/step - loss: 0.2132 - accuracy: 1.0000\n",
            "Epoch 66/100\n",
            "1/1 [==============================] - 0s 10ms/step - loss: 0.2112 - accuracy: 1.0000\n",
            "Epoch 67/100\n",
            "1/1 [==============================] - 0s 12ms/step - loss: 0.2093 - accuracy: 1.0000\n",
            "Epoch 68/100\n",
            "1/1 [==============================] - 0s 11ms/step - loss: 0.2074 - accuracy: 1.0000\n",
            "Epoch 69/100\n",
            "1/1 [==============================] - 0s 11ms/step - loss: 0.2055 - accuracy: 1.0000\n",
            "Epoch 70/100\n",
            "1/1 [==============================] - 0s 11ms/step - loss: 0.2037 - accuracy: 1.0000\n",
            "Epoch 71/100\n",
            "1/1 [==============================] - 0s 11ms/step - loss: 0.2019 - accuracy: 1.0000\n",
            "Epoch 72/100\n",
            "1/1 [==============================] - 0s 12ms/step - loss: 0.2001 - accuracy: 1.0000\n",
            "Epoch 73/100\n",
            "1/1 [==============================] - 0s 13ms/step - loss: 0.1983 - accuracy: 1.0000\n",
            "Epoch 74/100\n",
            "1/1 [==============================] - 0s 10ms/step - loss: 0.1966 - accuracy: 1.0000\n",
            "Epoch 75/100\n",
            "1/1 [==============================] - 0s 12ms/step - loss: 0.1949 - accuracy: 1.0000\n",
            "Epoch 76/100\n",
            "1/1 [==============================] - 0s 11ms/step - loss: 0.1932 - accuracy: 1.0000\n",
            "Epoch 77/100\n",
            "1/1 [==============================] - 0s 11ms/step - loss: 0.1916 - accuracy: 1.0000\n",
            "Epoch 78/100\n",
            "1/1 [==============================] - 0s 11ms/step - loss: 0.1900 - accuracy: 1.0000\n",
            "Epoch 79/100\n",
            "1/1 [==============================] - 0s 11ms/step - loss: 0.1884 - accuracy: 1.0000\n",
            "Epoch 80/100\n",
            "1/1 [==============================] - 0s 13ms/step - loss: 0.1868 - accuracy: 1.0000\n",
            "Epoch 81/100\n",
            "1/1 [==============================] - 0s 18ms/step - loss: 0.1853 - accuracy: 1.0000\n",
            "Epoch 82/100\n",
            "1/1 [==============================] - 0s 10ms/step - loss: 0.1837 - accuracy: 1.0000\n",
            "Epoch 83/100\n",
            "1/1 [==============================] - 0s 11ms/step - loss: 0.1822 - accuracy: 1.0000\n",
            "Epoch 84/100\n",
            "1/1 [==============================] - 0s 15ms/step - loss: 0.1808 - accuracy: 1.0000\n",
            "Epoch 85/100\n",
            "1/1 [==============================] - 0s 12ms/step - loss: 0.1793 - accuracy: 1.0000\n",
            "Epoch 86/100\n",
            "1/1 [==============================] - 0s 12ms/step - loss: 0.1779 - accuracy: 1.0000\n",
            "Epoch 87/100\n",
            "1/1 [==============================] - 0s 10ms/step - loss: 0.1765 - accuracy: 1.0000\n",
            "Epoch 88/100\n",
            "1/1 [==============================] - 0s 12ms/step - loss: 0.1751 - accuracy: 1.0000\n",
            "Epoch 89/100\n",
            "1/1 [==============================] - 0s 13ms/step - loss: 0.1737 - accuracy: 1.0000\n",
            "Epoch 90/100\n",
            "1/1 [==============================] - 0s 13ms/step - loss: 0.1724 - accuracy: 1.0000\n",
            "Epoch 91/100\n",
            "1/1 [==============================] - 0s 12ms/step - loss: 0.1710 - accuracy: 1.0000\n",
            "Epoch 92/100\n",
            "1/1 [==============================] - 0s 12ms/step - loss: 0.1697 - accuracy: 1.0000\n",
            "Epoch 93/100\n",
            "1/1 [==============================] - 0s 12ms/step - loss: 0.1684 - accuracy: 1.0000\n",
            "Epoch 94/100\n",
            "1/1 [==============================] - 0s 11ms/step - loss: 0.1672 - accuracy: 1.0000\n",
            "Epoch 95/100\n",
            "1/1 [==============================] - 0s 13ms/step - loss: 0.1659 - accuracy: 1.0000\n",
            "Epoch 96/100\n",
            "1/1 [==============================] - 0s 12ms/step - loss: 0.1647 - accuracy: 1.0000\n",
            "Epoch 97/100\n",
            "1/1 [==============================] - 0s 11ms/step - loss: 0.1634 - accuracy: 1.0000\n",
            "Epoch 98/100\n",
            "1/1 [==============================] - 0s 11ms/step - loss: 0.1622 - accuracy: 1.0000\n",
            "Epoch 99/100\n",
            "1/1 [==============================] - 0s 11ms/step - loss: 0.1611 - accuracy: 1.0000\n",
            "Epoch 100/100\n",
            "1/1 [==============================] - 0s 9ms/step - loss: 0.1599 - accuracy: 1.0000\n"
          ]
        },
        {
          "output_type": "execute_result",
          "data": {
            "text/plain": [
              "<keras.src.callbacks.History at 0x7ef4a80b9570>"
            ]
          },
          "metadata": {},
          "execution_count": 9
        }
      ]
    },
    {
      "cell_type": "markdown",
      "source": [
        "# Model prediction and validation"
      ],
      "metadata": {
        "id": "kK0CkJuevl_b"
      }
    },
    {
      "cell_type": "code",
      "source": [
        "y_pred = classifier.predict(input_array)\n",
        "y_pred = (y_pred > 0.5)\n",
        "y_pred"
      ],
      "metadata": {
        "colab": {
          "base_uri": "https://localhost:8080/"
        },
        "id": "FMRry585vR3n",
        "outputId": "e7fc415e-c6e8-4a72-d91d-b1d6e33f87b2"
      },
      "execution_count": null,
      "outputs": [
        {
          "output_type": "stream",
          "name": "stdout",
          "text": [
            "1/1 [==============================] - 0s 97ms/step\n"
          ]
        },
        {
          "output_type": "execute_result",
          "data": {
            "text/plain": [
              "array([[False],\n",
              "       [ True],\n",
              "       [ True],\n",
              "       [ True]])"
            ]
          },
          "metadata": {},
          "execution_count": 10
        }
      ]
    },
    {
      "cell_type": "markdown",
      "source": [
        "This output shows the results of making predictions with the classifier neural network model on some input data (input_array). Here's a breakdown of what's happening:\n",
        "\n",
        "1. Prediction (classifier.predict(input_array)): The model takes an array of inputs (input_array) and predicts outputs for them. These outputs are in the form of probabilities, given the use of a sigmoid activation function in the model's layer.\n",
        "\n",
        "2. Thresholding (y_pred > 0.5): The predictions are then converted into boolean values (True or False). This is done by checking whether each predicted probability is greater than 0.5. If a prediction is greater than 0.5, it's considered True (typically representing class 1 in binary classification), otherwise False (representing class 0).\n",
        "\n",
        "3. Output Array: The final output is an array showing these boolean results for each input. In your case, the array [[False], [True], [True], [True]] indicates that the first input was classified into class 0 (False), and the next three inputs were classified into class 1 (True).\n",
        "\n",
        "4. Additional Info (1/1 [==============================] - 0s 97ms/step): This part indicates the progress of the prediction process. It shows that the prediction was completed in one step, taking 97 milliseconds.\n",
        "\n",
        "In summary, the model predicted the class (True or False) for each instance in the input array, with these predictions likely representing the probability of belonging to a particular class in a binary classification task.\n",
        "\n"
      ],
      "metadata": {
        "id": "Z9U5rSF9TseI"
      }
    },
    {
      "cell_type": "code",
      "source": [
        "from sklearn.metrics import accuracy_score\n",
        "print(\"Accuracy\", accuracy_score(y_pred, output_array))"
      ],
      "metadata": {
        "colab": {
          "base_uri": "https://localhost:8080/"
        },
        "id": "NnFh1VP0vyQC",
        "outputId": "c674446a-272a-4f5e-e876-14e9c529ad54"
      },
      "execution_count": null,
      "outputs": [
        {
          "output_type": "stream",
          "name": "stdout",
          "text": [
            "Accuracy 1.0\n"
          ]
        }
      ]
    },
    {
      "cell_type": "markdown",
      "source": [
        "##### We see that after just few epochs the model's accuracy is 100% which means it is able to classify all the points correctly\n",
        "\n",
        "##the above is during 1957\n"
      ],
      "metadata": {
        "id": "Dy7pFTAav-MW"
      }
    },
    {
      "cell_type": "markdown",
      "source": [
        "# Perceptron Network for XOR data"
      ],
      "metadata": {
        "id": "Bg-vH4f9w4nK"
      }
    },
    {
      "cell_type": "markdown",
      "source": [
        "### Data\n",
        "#### we shall generate the XOR data\n",
        "0 0 --> 0\n",
        "\n",
        "0 1 -- > 1\n",
        "\n",
        "1 0 -- > 1\n",
        "\n",
        "1 1 -- > 0"
      ],
      "metadata": {
        "id": "_y0m2j8kw_XE"
      }
    },
    {
      "cell_type": "code",
      "source": [
        "input_array = np.array([[0,0],[0,1],[1,0],[1,1]])\n",
        "input_array"
      ],
      "metadata": {
        "colab": {
          "base_uri": "https://localhost:8080/"
        },
        "id": "WhPp8Yghv7cQ",
        "outputId": "fa1ff761-e196-4a79-8ae6-2c4c46017e5e"
      },
      "execution_count": null,
      "outputs": [
        {
          "output_type": "execute_result",
          "data": {
            "text/plain": [
              "array([[0, 0],\n",
              "       [0, 1],\n",
              "       [1, 0],\n",
              "       [1, 1]])"
            ]
          },
          "metadata": {},
          "execution_count": 12
        }
      ]
    },
    {
      "cell_type": "code",
      "source": [
        "# output data -- XOR Function\n",
        "output_array = np.array([0,1,1,0])\n",
        "output_array"
      ],
      "metadata": {
        "colab": {
          "base_uri": "https://localhost:8080/"
        },
        "id": "PqyOvSYhr8-P",
        "outputId": "93efd376-28c3-4ae2-a661-6914b19f52a5"
      },
      "execution_count": null,
      "outputs": [
        {
          "output_type": "execute_result",
          "data": {
            "text/plain": [
              "array([0, 1, 1, 0])"
            ]
          },
          "metadata": {},
          "execution_count": 13
        }
      ]
    },
    {
      "cell_type": "code",
      "source": [
        "classifier = Sequential()\n",
        "classifier.add(Dense(input_shape=(2,), units=1, activation='sigmoid'))\n",
        "# bias term is added by default\n",
        "classifier.summary()"
      ],
      "metadata": {
        "colab": {
          "base_uri": "https://localhost:8080/"
        },
        "id": "G3zpcMjqr9EQ",
        "outputId": "ff90d220-8c65-4343-a8b2-c0f801a1c5f6"
      },
      "execution_count": null,
      "outputs": [
        {
          "output_type": "stream",
          "name": "stdout",
          "text": [
            "Model: \"sequential_1\"\n",
            "_________________________________________________________________\n",
            " Layer (type)                Output Shape              Param #   \n",
            "=================================================================\n",
            " dense_1 (Dense)             (None, 1)                 3         \n",
            "                                                                 \n",
            "=================================================================\n",
            "Total params: 3 (12.00 Byte)\n",
            "Trainable params: 3 (12.00 Byte)\n",
            "Non-trainable params: 0 (0.00 Byte)\n",
            "_________________________________________________________________\n"
          ]
        }
      ]
    },
    {
      "cell_type": "code",
      "source": [
        "classifier.compile(optimizer=SGD(learning_rate=0.5), loss='binary_crossentropy', metrics=['accuracy'])"
      ],
      "metadata": {
        "id": "bmxRZ5q3r9HH"
      },
      "execution_count": null,
      "outputs": []
    },
    {
      "cell_type": "code",
      "source": [
        "classifier.fit(input_array, output_array, epochs=100)"
      ],
      "metadata": {
        "colab": {
          "base_uri": "https://localhost:8080/"
        },
        "id": "HqQj__Q9r9J7",
        "outputId": "73094b2a-6734-42b1-90f0-edf55bb1edc0"
      },
      "execution_count": null,
      "outputs": [
        {
          "output_type": "stream",
          "name": "stdout",
          "text": [
            "Epoch 1/100\n",
            "1/1 [==============================] - 0s 387ms/step - loss: 0.7529 - accuracy: 0.5000\n",
            "Epoch 2/100\n",
            "1/1 [==============================] - 0s 12ms/step - loss: 0.7486 - accuracy: 0.5000\n",
            "Epoch 3/100\n",
            "1/1 [==============================] - 0s 11ms/step - loss: 0.7449 - accuracy: 0.5000\n",
            "Epoch 4/100\n",
            "1/1 [==============================] - 0s 11ms/step - loss: 0.7415 - accuracy: 0.5000\n",
            "Epoch 5/100\n",
            "1/1 [==============================] - 0s 12ms/step - loss: 0.7385 - accuracy: 0.5000\n",
            "Epoch 6/100\n",
            "1/1 [==============================] - 0s 13ms/step - loss: 0.7357 - accuracy: 0.5000\n",
            "Epoch 7/100\n",
            "1/1 [==============================] - 0s 13ms/step - loss: 0.7332 - accuracy: 0.5000\n",
            "Epoch 8/100\n",
            "1/1 [==============================] - 0s 12ms/step - loss: 0.7308 - accuracy: 0.5000\n",
            "Epoch 9/100\n",
            "1/1 [==============================] - 0s 11ms/step - loss: 0.7286 - accuracy: 0.5000\n",
            "Epoch 10/100\n",
            "1/1 [==============================] - 0s 11ms/step - loss: 0.7265 - accuracy: 0.5000\n",
            "Epoch 11/100\n",
            "1/1 [==============================] - 0s 10ms/step - loss: 0.7246 - accuracy: 0.5000\n",
            "Epoch 12/100\n",
            "1/1 [==============================] - 0s 12ms/step - loss: 0.7227 - accuracy: 0.5000\n",
            "Epoch 13/100\n",
            "1/1 [==============================] - 0s 11ms/step - loss: 0.7210 - accuracy: 0.5000\n",
            "Epoch 14/100\n",
            "1/1 [==============================] - 0s 10ms/step - loss: 0.7194 - accuracy: 0.5000\n",
            "Epoch 15/100\n",
            "1/1 [==============================] - 0s 11ms/step - loss: 0.7178 - accuracy: 0.5000\n",
            "Epoch 16/100\n",
            "1/1 [==============================] - 0s 12ms/step - loss: 0.7164 - accuracy: 0.5000\n",
            "Epoch 17/100\n",
            "1/1 [==============================] - 0s 11ms/step - loss: 0.7150 - accuracy: 0.5000\n",
            "Epoch 18/100\n",
            "1/1 [==============================] - 0s 12ms/step - loss: 0.7137 - accuracy: 0.5000\n",
            "Epoch 19/100\n",
            "1/1 [==============================] - 0s 12ms/step - loss: 0.7125 - accuracy: 0.5000\n",
            "Epoch 20/100\n",
            "1/1 [==============================] - 0s 11ms/step - loss: 0.7114 - accuracy: 0.5000\n",
            "Epoch 21/100\n",
            "1/1 [==============================] - 0s 11ms/step - loss: 0.7103 - accuracy: 0.5000\n",
            "Epoch 22/100\n",
            "1/1 [==============================] - 0s 11ms/step - loss: 0.7093 - accuracy: 0.5000\n",
            "Epoch 23/100\n",
            "1/1 [==============================] - 0s 14ms/step - loss: 0.7083 - accuracy: 0.5000\n",
            "Epoch 24/100\n",
            "1/1 [==============================] - 0s 12ms/step - loss: 0.7074 - accuracy: 0.5000\n",
            "Epoch 25/100\n",
            "1/1 [==============================] - 0s 11ms/step - loss: 0.7066 - accuracy: 0.5000\n",
            "Epoch 26/100\n",
            "1/1 [==============================] - 0s 11ms/step - loss: 0.7058 - accuracy: 0.5000\n",
            "Epoch 27/100\n",
            "1/1 [==============================] - 0s 9ms/step - loss: 0.7050 - accuracy: 0.5000\n",
            "Epoch 28/100\n",
            "1/1 [==============================] - 0s 11ms/step - loss: 0.7043 - accuracy: 0.5000\n",
            "Epoch 29/100\n",
            "1/1 [==============================] - 0s 13ms/step - loss: 0.7036 - accuracy: 0.5000\n",
            "Epoch 30/100\n",
            "1/1 [==============================] - 0s 11ms/step - loss: 0.7030 - accuracy: 0.5000\n",
            "Epoch 31/100\n",
            "1/1 [==============================] - 0s 11ms/step - loss: 0.7024 - accuracy: 0.5000\n",
            "Epoch 32/100\n",
            "1/1 [==============================] - 0s 12ms/step - loss: 0.7019 - accuracy: 0.5000\n",
            "Epoch 33/100\n",
            "1/1 [==============================] - 0s 10ms/step - loss: 0.7013 - accuracy: 0.5000\n",
            "Epoch 34/100\n",
            "1/1 [==============================] - 0s 11ms/step - loss: 0.7008 - accuracy: 0.5000\n",
            "Epoch 35/100\n",
            "1/1 [==============================] - 0s 14ms/step - loss: 0.7004 - accuracy: 0.5000\n",
            "Epoch 36/100\n",
            "1/1 [==============================] - 0s 11ms/step - loss: 0.7000 - accuracy: 0.5000\n",
            "Epoch 37/100\n",
            "1/1 [==============================] - 0s 10ms/step - loss: 0.6995 - accuracy: 0.5000\n",
            "Epoch 38/100\n",
            "1/1 [==============================] - 0s 12ms/step - loss: 0.6992 - accuracy: 0.5000\n",
            "Epoch 39/100\n",
            "1/1 [==============================] - 0s 10ms/step - loss: 0.6988 - accuracy: 0.5000\n",
            "Epoch 40/100\n",
            "1/1 [==============================] - 0s 10ms/step - loss: 0.6985 - accuracy: 0.5000\n",
            "Epoch 41/100\n",
            "1/1 [==============================] - 0s 16ms/step - loss: 0.6981 - accuracy: 0.5000\n",
            "Epoch 42/100\n",
            "1/1 [==============================] - 0s 13ms/step - loss: 0.6978 - accuracy: 0.5000\n",
            "Epoch 43/100\n",
            "1/1 [==============================] - 0s 12ms/step - loss: 0.6975 - accuracy: 0.5000\n",
            "Epoch 44/100\n",
            "1/1 [==============================] - 0s 12ms/step - loss: 0.6973 - accuracy: 0.5000\n",
            "Epoch 45/100\n",
            "1/1 [==============================] - 0s 12ms/step - loss: 0.6970 - accuracy: 0.5000\n",
            "Epoch 46/100\n",
            "1/1 [==============================] - 0s 11ms/step - loss: 0.6968 - accuracy: 0.5000\n",
            "Epoch 47/100\n",
            "1/1 [==============================] - 0s 12ms/step - loss: 0.6966 - accuracy: 0.5000\n",
            "Epoch 48/100\n",
            "1/1 [==============================] - 0s 12ms/step - loss: 0.6964 - accuracy: 0.5000\n",
            "Epoch 49/100\n",
            "1/1 [==============================] - 0s 12ms/step - loss: 0.6962 - accuracy: 0.5000\n",
            "Epoch 50/100\n",
            "1/1 [==============================] - 0s 12ms/step - loss: 0.6960 - accuracy: 0.5000\n",
            "Epoch 51/100\n",
            "1/1 [==============================] - 0s 12ms/step - loss: 0.6958 - accuracy: 0.5000\n",
            "Epoch 52/100\n",
            "1/1 [==============================] - 0s 12ms/step - loss: 0.6957 - accuracy: 0.5000\n",
            "Epoch 53/100\n",
            "1/1 [==============================] - 0s 10ms/step - loss: 0.6955 - accuracy: 0.5000\n",
            "Epoch 54/100\n",
            "1/1 [==============================] - 0s 12ms/step - loss: 0.6954 - accuracy: 0.5000\n",
            "Epoch 55/100\n",
            "1/1 [==============================] - 0s 13ms/step - loss: 0.6952 - accuracy: 0.5000\n",
            "Epoch 56/100\n",
            "1/1 [==============================] - 0s 10ms/step - loss: 0.6951 - accuracy: 0.5000\n",
            "Epoch 57/100\n",
            "1/1 [==============================] - 0s 9ms/step - loss: 0.6950 - accuracy: 0.5000\n",
            "Epoch 58/100\n",
            "1/1 [==============================] - 0s 10ms/step - loss: 0.6949 - accuracy: 0.5000\n",
            "Epoch 59/100\n",
            "1/1 [==============================] - 0s 10ms/step - loss: 0.6948 - accuracy: 0.5000\n",
            "Epoch 60/100\n",
            "1/1 [==============================] - 0s 10ms/step - loss: 0.6947 - accuracy: 0.5000\n",
            "Epoch 61/100\n",
            "1/1 [==============================] - 0s 11ms/step - loss: 0.6946 - accuracy: 0.5000\n",
            "Epoch 62/100\n",
            "1/1 [==============================] - 0s 12ms/step - loss: 0.6945 - accuracy: 0.5000\n",
            "Epoch 63/100\n",
            "1/1 [==============================] - 0s 10ms/step - loss: 0.6944 - accuracy: 0.5000\n",
            "Epoch 64/100\n",
            "1/1 [==============================] - 0s 10ms/step - loss: 0.6943 - accuracy: 0.5000\n",
            "Epoch 65/100\n",
            "1/1 [==============================] - 0s 10ms/step - loss: 0.6943 - accuracy: 0.5000\n",
            "Epoch 66/100\n",
            "1/1 [==============================] - 0s 11ms/step - loss: 0.6942 - accuracy: 0.5000\n",
            "Epoch 67/100\n",
            "1/1 [==============================] - 0s 12ms/step - loss: 0.6941 - accuracy: 0.5000\n",
            "Epoch 68/100\n",
            "1/1 [==============================] - 0s 10ms/step - loss: 0.6941 - accuracy: 0.5000\n",
            "Epoch 69/100\n",
            "1/1 [==============================] - 0s 12ms/step - loss: 0.6940 - accuracy: 0.5000\n",
            "Epoch 70/100\n",
            "1/1 [==============================] - 0s 12ms/step - loss: 0.6940 - accuracy: 0.5000\n",
            "Epoch 71/100\n",
            "1/1 [==============================] - 0s 12ms/step - loss: 0.6939 - accuracy: 0.5000\n",
            "Epoch 72/100\n",
            "1/1 [==============================] - 0s 11ms/step - loss: 0.6939 - accuracy: 0.5000\n",
            "Epoch 73/100\n",
            "1/1 [==============================] - 0s 11ms/step - loss: 0.6938 - accuracy: 0.5000\n",
            "Epoch 74/100\n",
            "1/1 [==============================] - 0s 11ms/step - loss: 0.6938 - accuracy: 0.5000\n",
            "Epoch 75/100\n",
            "1/1 [==============================] - 0s 11ms/step - loss: 0.6937 - accuracy: 0.5000\n",
            "Epoch 76/100\n",
            "1/1 [==============================] - 0s 12ms/step - loss: 0.6937 - accuracy: 0.5000\n",
            "Epoch 77/100\n",
            "1/1 [==============================] - 0s 13ms/step - loss: 0.6937 - accuracy: 0.5000\n",
            "Epoch 78/100\n",
            "1/1 [==============================] - 0s 10ms/step - loss: 0.6936 - accuracy: 0.5000\n",
            "Epoch 79/100\n",
            "1/1 [==============================] - 0s 10ms/step - loss: 0.6936 - accuracy: 0.5000\n",
            "Epoch 80/100\n",
            "1/1 [==============================] - 0s 11ms/step - loss: 0.6936 - accuracy: 0.5000\n",
            "Epoch 81/100\n",
            "1/1 [==============================] - 0s 12ms/step - loss: 0.6936 - accuracy: 0.5000\n",
            "Epoch 82/100\n",
            "1/1 [==============================] - 0s 13ms/step - loss: 0.6935 - accuracy: 0.5000\n",
            "Epoch 83/100\n",
            "1/1 [==============================] - 0s 11ms/step - loss: 0.6935 - accuracy: 0.5000\n",
            "Epoch 84/100\n",
            "1/1 [==============================] - 0s 11ms/step - loss: 0.6935 - accuracy: 0.5000\n",
            "Epoch 85/100\n",
            "1/1 [==============================] - 0s 11ms/step - loss: 0.6935 - accuracy: 0.5000\n",
            "Epoch 86/100\n",
            "1/1 [==============================] - 0s 12ms/step - loss: 0.6934 - accuracy: 0.5000\n",
            "Epoch 87/100\n",
            "1/1 [==============================] - 0s 12ms/step - loss: 0.6934 - accuracy: 0.5000\n",
            "Epoch 88/100\n",
            "1/1 [==============================] - 0s 13ms/step - loss: 0.6934 - accuracy: 0.5000\n",
            "Epoch 89/100\n",
            "1/1 [==============================] - 0s 11ms/step - loss: 0.6934 - accuracy: 0.5000\n",
            "Epoch 90/100\n",
            "1/1 [==============================] - 0s 12ms/step - loss: 0.6934 - accuracy: 0.5000\n",
            "Epoch 91/100\n",
            "1/1 [==============================] - 0s 12ms/step - loss: 0.6934 - accuracy: 0.5000\n",
            "Epoch 92/100\n",
            "1/1 [==============================] - 0s 11ms/step - loss: 0.6934 - accuracy: 0.5000\n",
            "Epoch 93/100\n",
            "1/1 [==============================] - 0s 11ms/step - loss: 0.6933 - accuracy: 0.5000\n",
            "Epoch 94/100\n",
            "1/1 [==============================] - 0s 9ms/step - loss: 0.6933 - accuracy: 0.5000\n",
            "Epoch 95/100\n",
            "1/1 [==============================] - 0s 17ms/step - loss: 0.6933 - accuracy: 0.5000\n",
            "Epoch 96/100\n",
            "1/1 [==============================] - 0s 13ms/step - loss: 0.6933 - accuracy: 0.5000\n",
            "Epoch 97/100\n",
            "1/1 [==============================] - 0s 12ms/step - loss: 0.6933 - accuracy: 0.5000\n",
            "Epoch 98/100\n",
            "1/1 [==============================] - 0s 12ms/step - loss: 0.6933 - accuracy: 0.5000\n",
            "Epoch 99/100\n",
            "1/1 [==============================] - 0s 13ms/step - loss: 0.6933 - accuracy: 0.5000\n",
            "Epoch 100/100\n",
            "1/1 [==============================] - 0s 12ms/step - loss: 0.6933 - accuracy: 0.5000\n"
          ]
        },
        {
          "output_type": "execute_result",
          "data": {
            "text/plain": [
              "<keras.src.callbacks.History at 0x7ef40d1de4a0>"
            ]
          },
          "metadata": {},
          "execution_count": 16
        }
      ]
    },
    {
      "cell_type": "code",
      "source": [
        "y_pred = classifier.predict(input_array)\n",
        "y_pred = (y_pred > 0.5)\n",
        "print(\"Accuracy\", accuracy_score(y_pred, output_array))"
      ],
      "metadata": {
        "colab": {
          "base_uri": "https://localhost:8080/"
        },
        "id": "CLictlQjr9Mv",
        "outputId": "10f44ced-99ad-4a27-8ae7-7d82ec2ebd80"
      },
      "execution_count": null,
      "outputs": [
        {
          "output_type": "stream",
          "name": "stdout",
          "text": [
            "1/1 [==============================] - 0s 40ms/step\n",
            "Accuracy 0.5\n"
          ]
        }
      ]
    },
    {
      "cell_type": "code",
      "source": [
        "y_pred"
      ],
      "metadata": {
        "colab": {
          "base_uri": "https://localhost:8080/"
        },
        "id": "kZxtjTVhzEZJ",
        "outputId": "8ea1aa19-6dd1-402f-f2e2-654958ae8532"
      },
      "execution_count": null,
      "outputs": [
        {
          "output_type": "execute_result",
          "data": {
            "text/plain": [
              "array([[False],\n",
              "       [False],\n",
              "       [ True],\n",
              "       [ True]])"
            ]
          },
          "metadata": {},
          "execution_count": 18
        }
      ]
    },
    {
      "cell_type": "markdown",
      "source": [
        "##### We see that after 100 epochs, the model's accuracy is 50% which means it is not able to classify all the points correctly. The model is not able to segregate the classes correctly (it's missclassifier)"
      ],
      "metadata": {
        "id": "sn3lP3czyDRF"
      }
    },
    {
      "cell_type": "markdown",
      "source": [
        "# MultiLayer Perceptron (XOR Function)"
      ],
      "metadata": {
        "id": "pB-zToDQznHN"
      }
    },
    {
      "cell_type": "code",
      "source": [
        "input_array = np.array([[0,0],[0,1],[1,0],[1,1]])\n",
        "output_array = np.array([0,1,1,0])"
      ],
      "metadata": {
        "id": "MbEfNuK1r9P1"
      },
      "execution_count": null,
      "outputs": []
    },
    {
      "cell_type": "code",
      "source": [
        "from IPython.utils.text import dedent\n",
        "classifier = Sequential()\n",
        "classifier.add(Dense(input_shape=(2,), units=10, activation='relu'))\n",
        "classifier.add(Dense(units=1, activation='sigmoid'))\n",
        "# bias term is added by default\n",
        "classifier.summary()"
      ],
      "metadata": {
        "colab": {
          "base_uri": "https://localhost:8080/"
        },
        "id": "AEElYfCYr9TC",
        "outputId": "321bd37d-e594-4d6e-fbcd-ade1087929ae"
      },
      "execution_count": null,
      "outputs": [
        {
          "output_type": "stream",
          "name": "stdout",
          "text": [
            "Model: \"sequential_2\"\n",
            "_________________________________________________________________\n",
            " Layer (type)                Output Shape              Param #   \n",
            "=================================================================\n",
            " dense_2 (Dense)             (None, 10)                30        \n",
            "                                                                 \n",
            " dense_3 (Dense)             (None, 1)                 11        \n",
            "                                                                 \n",
            "=================================================================\n",
            "Total params: 41 (164.00 Byte)\n",
            "Trainable params: 41 (164.00 Byte)\n",
            "Non-trainable params: 0 (0.00 Byte)\n",
            "_________________________________________________________________\n"
          ]
        }
      ]
    },
    {
      "cell_type": "code",
      "source": [
        "classifier.compile(optimizer=SGD(learning_rate=0.5), loss='binary_crossentropy', metrics=['accuracy'])"
      ],
      "metadata": {
        "id": "JkTL3CuF1Y2X"
      },
      "execution_count": null,
      "outputs": []
    },
    {
      "cell_type": "code",
      "source": [
        "classifier.fit(input_array, output_array, epochs=100)"
      ],
      "metadata": {
        "colab": {
          "base_uri": "https://localhost:8080/"
        },
        "id": "t7vyrJ6I1Y5g",
        "outputId": "c00e9af3-3b0b-49dd-c689-d22eff47d16c"
      },
      "execution_count": null,
      "outputs": [
        {
          "output_type": "stream",
          "name": "stdout",
          "text": [
            "Epoch 1/100\n",
            "1/1 [==============================] - 1s 1s/step - loss: 0.6820 - accuracy: 0.5000\n",
            "Epoch 2/100\n",
            "1/1 [==============================] - 0s 16ms/step - loss: 0.6675 - accuracy: 0.5000\n",
            "Epoch 3/100\n",
            "1/1 [==============================] - 0s 13ms/step - loss: 0.6540 - accuracy: 0.7500\n",
            "Epoch 4/100\n",
            "1/1 [==============================] - 0s 15ms/step - loss: 0.6416 - accuracy: 0.7500\n",
            "Epoch 5/100\n",
            "1/1 [==============================] - 0s 12ms/step - loss: 0.6325 - accuracy: 0.7500\n",
            "Epoch 6/100\n",
            "1/1 [==============================] - 0s 15ms/step - loss: 0.6233 - accuracy: 0.7500\n",
            "Epoch 7/100\n",
            "1/1 [==============================] - 0s 25ms/step - loss: 0.6152 - accuracy: 0.7500\n",
            "Epoch 8/100\n",
            "1/1 [==============================] - 0s 16ms/step - loss: 0.6049 - accuracy: 0.7500\n",
            "Epoch 9/100\n",
            "1/1 [==============================] - 0s 10ms/step - loss: 0.5957 - accuracy: 1.0000\n",
            "Epoch 10/100\n",
            "1/1 [==============================] - 0s 11ms/step - loss: 0.5866 - accuracy: 1.0000\n",
            "Epoch 11/100\n",
            "1/1 [==============================] - 0s 16ms/step - loss: 0.5775 - accuracy: 1.0000\n",
            "Epoch 12/100\n",
            "1/1 [==============================] - 0s 14ms/step - loss: 0.5708 - accuracy: 1.0000\n",
            "Epoch 13/100\n",
            "1/1 [==============================] - 0s 14ms/step - loss: 0.5583 - accuracy: 1.0000\n",
            "Epoch 14/100\n",
            "1/1 [==============================] - 0s 14ms/step - loss: 0.5519 - accuracy: 1.0000\n",
            "Epoch 15/100\n",
            "1/1 [==============================] - 0s 15ms/step - loss: 0.5382 - accuracy: 1.0000\n",
            "Epoch 16/100\n",
            "1/1 [==============================] - 0s 14ms/step - loss: 0.5274 - accuracy: 1.0000\n",
            "Epoch 17/100\n",
            "1/1 [==============================] - 0s 13ms/step - loss: 0.5181 - accuracy: 1.0000\n",
            "Epoch 18/100\n",
            "1/1 [==============================] - 0s 15ms/step - loss: 0.5012 - accuracy: 1.0000\n",
            "Epoch 19/100\n",
            "1/1 [==============================] - 0s 14ms/step - loss: 0.4988 - accuracy: 1.0000\n",
            "Epoch 20/100\n",
            "1/1 [==============================] - 0s 14ms/step - loss: 0.4867 - accuracy: 1.0000\n",
            "Epoch 21/100\n",
            "1/1 [==============================] - 0s 16ms/step - loss: 0.4729 - accuracy: 1.0000\n",
            "Epoch 22/100\n",
            "1/1 [==============================] - 0s 25ms/step - loss: 0.4640 - accuracy: 1.0000\n",
            "Epoch 23/100\n",
            "1/1 [==============================] - 0s 13ms/step - loss: 0.4495 - accuracy: 1.0000\n",
            "Epoch 24/100\n",
            "1/1 [==============================] - 0s 14ms/step - loss: 0.4408 - accuracy: 1.0000\n",
            "Epoch 25/100\n",
            "1/1 [==============================] - 0s 12ms/step - loss: 0.4279 - accuracy: 1.0000\n",
            "Epoch 26/100\n",
            "1/1 [==============================] - 0s 15ms/step - loss: 0.4159 - accuracy: 1.0000\n",
            "Epoch 27/100\n",
            "1/1 [==============================] - 0s 14ms/step - loss: 0.4069 - accuracy: 1.0000\n",
            "Epoch 28/100\n",
            "1/1 [==============================] - 0s 16ms/step - loss: 0.3884 - accuracy: 1.0000\n",
            "Epoch 29/100\n",
            "1/1 [==============================] - 0s 16ms/step - loss: 0.3780 - accuracy: 1.0000\n",
            "Epoch 30/100\n",
            "1/1 [==============================] - 0s 35ms/step - loss: 0.3790 - accuracy: 1.0000\n",
            "Epoch 31/100\n",
            "1/1 [==============================] - 0s 22ms/step - loss: 0.3537 - accuracy: 1.0000\n",
            "Epoch 32/100\n",
            "1/1 [==============================] - 0s 19ms/step - loss: 0.3538 - accuracy: 1.0000\n",
            "Epoch 33/100\n",
            "1/1 [==============================] - 0s 15ms/step - loss: 0.3417 - accuracy: 1.0000\n",
            "Epoch 34/100\n",
            "1/1 [==============================] - 0s 15ms/step - loss: 0.3220 - accuracy: 1.0000\n",
            "Epoch 35/100\n",
            "1/1 [==============================] - 0s 14ms/step - loss: 0.3160 - accuracy: 1.0000\n",
            "Epoch 36/100\n",
            "1/1 [==============================] - 0s 12ms/step - loss: 0.3091 - accuracy: 1.0000\n",
            "Epoch 37/100\n",
            "1/1 [==============================] - 0s 17ms/step - loss: 0.2941 - accuracy: 1.0000\n",
            "Epoch 38/100\n",
            "1/1 [==============================] - 0s 12ms/step - loss: 0.2838 - accuracy: 1.0000\n",
            "Epoch 39/100\n",
            "1/1 [==============================] - 0s 14ms/step - loss: 0.2807 - accuracy: 1.0000\n",
            "Epoch 40/100\n",
            "1/1 [==============================] - 0s 14ms/step - loss: 0.2695 - accuracy: 1.0000\n",
            "Epoch 41/100\n",
            "1/1 [==============================] - 0s 13ms/step - loss: 0.2559 - accuracy: 1.0000\n",
            "Epoch 42/100\n",
            "1/1 [==============================] - 0s 12ms/step - loss: 0.2509 - accuracy: 1.0000\n",
            "Epoch 43/100\n",
            "1/1 [==============================] - 0s 14ms/step - loss: 0.2467 - accuracy: 1.0000\n",
            "Epoch 44/100\n",
            "1/1 [==============================] - 0s 14ms/step - loss: 0.2359 - accuracy: 1.0000\n",
            "Epoch 45/100\n",
            "1/1 [==============================] - 0s 17ms/step - loss: 0.2275 - accuracy: 1.0000\n",
            "Epoch 46/100\n",
            "1/1 [==============================] - 0s 16ms/step - loss: 0.2192 - accuracy: 1.0000\n",
            "Epoch 47/100\n",
            "1/1 [==============================] - 0s 16ms/step - loss: 0.2147 - accuracy: 1.0000\n",
            "Epoch 48/100\n",
            "1/1 [==============================] - 0s 16ms/step - loss: 0.2105 - accuracy: 1.0000\n",
            "Epoch 49/100\n",
            "1/1 [==============================] - 0s 16ms/step - loss: 0.2021 - accuracy: 1.0000\n",
            "Epoch 50/100\n",
            "1/1 [==============================] - 0s 16ms/step - loss: 0.1933 - accuracy: 1.0000\n",
            "Epoch 51/100\n",
            "1/1 [==============================] - 0s 17ms/step - loss: 0.1920 - accuracy: 1.0000\n",
            "Epoch 52/100\n",
            "1/1 [==============================] - 0s 16ms/step - loss: 0.1859 - accuracy: 1.0000\n",
            "Epoch 53/100\n",
            "1/1 [==============================] - 0s 16ms/step - loss: 0.1770 - accuracy: 1.0000\n",
            "Epoch 54/100\n",
            "1/1 [==============================] - 0s 16ms/step - loss: 0.1741 - accuracy: 1.0000\n",
            "Epoch 55/100\n",
            "1/1 [==============================] - 0s 15ms/step - loss: 0.1688 - accuracy: 1.0000\n",
            "Epoch 56/100\n",
            "1/1 [==============================] - 0s 15ms/step - loss: 0.1632 - accuracy: 1.0000\n",
            "Epoch 57/100\n",
            "1/1 [==============================] - 0s 16ms/step - loss: 0.1584 - accuracy: 1.0000\n",
            "Epoch 58/100\n",
            "1/1 [==============================] - 0s 17ms/step - loss: 0.1555 - accuracy: 1.0000\n",
            "Epoch 59/100\n",
            "1/1 [==============================] - 0s 15ms/step - loss: 0.1510 - accuracy: 1.0000\n",
            "Epoch 60/100\n",
            "1/1 [==============================] - 0s 13ms/step - loss: 0.1472 - accuracy: 1.0000\n",
            "Epoch 61/100\n",
            "1/1 [==============================] - 0s 12ms/step - loss: 0.1438 - accuracy: 1.0000\n",
            "Epoch 62/100\n",
            "1/1 [==============================] - 0s 12ms/step - loss: 0.1409 - accuracy: 1.0000\n",
            "Epoch 63/100\n",
            "1/1 [==============================] - 0s 11ms/step - loss: 0.1380 - accuracy: 1.0000\n",
            "Epoch 64/100\n",
            "1/1 [==============================] - 0s 10ms/step - loss: 0.1327 - accuracy: 1.0000\n",
            "Epoch 65/100\n",
            "1/1 [==============================] - 0s 14ms/step - loss: 0.1298 - accuracy: 1.0000\n",
            "Epoch 66/100\n",
            "1/1 [==============================] - 0s 9ms/step - loss: 0.1266 - accuracy: 1.0000\n",
            "Epoch 67/100\n",
            "1/1 [==============================] - 0s 11ms/step - loss: 0.1242 - accuracy: 1.0000\n",
            "Epoch 68/100\n",
            "1/1 [==============================] - 0s 10ms/step - loss: 0.1217 - accuracy: 1.0000\n",
            "Epoch 69/100\n",
            "1/1 [==============================] - 0s 10ms/step - loss: 0.1202 - accuracy: 1.0000\n",
            "Epoch 70/100\n",
            "1/1 [==============================] - 0s 11ms/step - loss: 0.1153 - accuracy: 1.0000\n",
            "Epoch 71/100\n",
            "1/1 [==============================] - 0s 11ms/step - loss: 0.1129 - accuracy: 1.0000\n",
            "Epoch 72/100\n",
            "1/1 [==============================] - 0s 10ms/step - loss: 0.1103 - accuracy: 1.0000\n",
            "Epoch 73/100\n",
            "1/1 [==============================] - 0s 13ms/step - loss: 0.1086 - accuracy: 1.0000\n",
            "Epoch 74/100\n",
            "1/1 [==============================] - 0s 15ms/step - loss: 0.1061 - accuracy: 1.0000\n",
            "Epoch 75/100\n",
            "1/1 [==============================] - 0s 10ms/step - loss: 0.1036 - accuracy: 1.0000\n",
            "Epoch 76/100\n",
            "1/1 [==============================] - 0s 10ms/step - loss: 0.1027 - accuracy: 1.0000\n",
            "Epoch 77/100\n",
            "1/1 [==============================] - 0s 12ms/step - loss: 0.0998 - accuracy: 1.0000\n",
            "Epoch 78/100\n",
            "1/1 [==============================] - 0s 11ms/step - loss: 0.0978 - accuracy: 1.0000\n",
            "Epoch 79/100\n",
            "1/1 [==============================] - 0s 13ms/step - loss: 0.0958 - accuracy: 1.0000\n",
            "Epoch 80/100\n",
            "1/1 [==============================] - 0s 16ms/step - loss: 0.0932 - accuracy: 1.0000\n",
            "Epoch 81/100\n",
            "1/1 [==============================] - 0s 12ms/step - loss: 0.0927 - accuracy: 1.0000\n",
            "Epoch 82/100\n",
            "1/1 [==============================] - 0s 11ms/step - loss: 0.0906 - accuracy: 1.0000\n",
            "Epoch 83/100\n",
            "1/1 [==============================] - 0s 11ms/step - loss: 0.0881 - accuracy: 1.0000\n",
            "Epoch 84/100\n",
            "1/1 [==============================] - 0s 12ms/step - loss: 0.0865 - accuracy: 1.0000\n",
            "Epoch 85/100\n",
            "1/1 [==============================] - 0s 12ms/step - loss: 0.0863 - accuracy: 1.0000\n",
            "Epoch 86/100\n",
            "1/1 [==============================] - 0s 12ms/step - loss: 0.0849 - accuracy: 1.0000\n",
            "Epoch 87/100\n",
            "1/1 [==============================] - 0s 11ms/step - loss: 0.0827 - accuracy: 1.0000\n",
            "Epoch 88/100\n",
            "1/1 [==============================] - 0s 12ms/step - loss: 0.0806 - accuracy: 1.0000\n",
            "Epoch 89/100\n",
            "1/1 [==============================] - 0s 12ms/step - loss: 0.0791 - accuracy: 1.0000\n",
            "Epoch 90/100\n",
            "1/1 [==============================] - 0s 11ms/step - loss: 0.0787 - accuracy: 1.0000\n",
            "Epoch 91/100\n",
            "1/1 [==============================] - 0s 12ms/step - loss: 0.0773 - accuracy: 1.0000\n",
            "Epoch 92/100\n",
            "1/1 [==============================] - 0s 11ms/step - loss: 0.0761 - accuracy: 1.0000\n",
            "Epoch 93/100\n",
            "1/1 [==============================] - 0s 11ms/step - loss: 0.0745 - accuracy: 1.0000\n",
            "Epoch 94/100\n",
            "1/1 [==============================] - 0s 11ms/step - loss: 0.0733 - accuracy: 1.0000\n",
            "Epoch 95/100\n",
            "1/1 [==============================] - 0s 11ms/step - loss: 0.0719 - accuracy: 1.0000\n",
            "Epoch 96/100\n",
            "1/1 [==============================] - 0s 9ms/step - loss: 0.0705 - accuracy: 1.0000\n",
            "Epoch 97/100\n",
            "1/1 [==============================] - 0s 14ms/step - loss: 0.0698 - accuracy: 1.0000\n",
            "Epoch 98/100\n",
            "1/1 [==============================] - 0s 11ms/step - loss: 0.0689 - accuracy: 1.0000\n",
            "Epoch 99/100\n",
            "1/1 [==============================] - 0s 12ms/step - loss: 0.0674 - accuracy: 1.0000\n",
            "Epoch 100/100\n",
            "1/1 [==============================] - 0s 11ms/step - loss: 0.0663 - accuracy: 1.0000\n"
          ]
        },
        {
          "output_type": "execute_result",
          "data": {
            "text/plain": [
              "<keras.src.callbacks.History at 0x7ef40ce4cdf0>"
            ]
          },
          "metadata": {},
          "execution_count": 22
        }
      ]
    },
    {
      "cell_type": "code",
      "source": [
        "y_pred = classifier.predict(input_array)\n",
        "y_pred = (y_pred > 0.5)\n",
        "print(\"Accuracy\", accuracy_score(y_pred, output_array))"
      ],
      "metadata": {
        "colab": {
          "base_uri": "https://localhost:8080/"
        },
        "id": "AFybpX5R1dse",
        "outputId": "9ae68ae0-586d-464f-a05f-3ba8e6a859d9"
      },
      "execution_count": null,
      "outputs": [
        {
          "output_type": "stream",
          "name": "stdout",
          "text": [
            "1/1 [==============================] - 0s 44ms/step\n",
            "Accuracy 1.0\n"
          ]
        }
      ]
    },
    {
      "cell_type": "markdown",
      "source": [
        "Conclusion :\n",
        "\n",
        "1. Perceptron Model for OR Data: This section shows a perceptron model trained on OR data (inputs producing a logical OR output). The model achieves 100% accuracy, indicating it successfully learned the OR operation.\n",
        "\n",
        "2. Perceptron Network for XOR Data: This part attempts to use a similar perceptron model for XOR data. However, the model only reaches 50% accuracy, suggesting the inability of a simple perceptron to handle the XOR operation, which is not linearly separable.\n",
        "\n",
        "3. MultiLayer Perceptron for XOR Data: The final section uses a MultiLayer Perceptron with two layers to model XOR data. This approach successfully learns the XOR operation, reaching 100% accuracy, demonstrating the capability of multi-layer networks to solve problems that single-layer perceptrons cannot.\n",
        "\n",
        "The key difference observed is the inability of a single-layer perceptron to solve XOR problems and the effectiveness of multi-layer perceptrons in handling more complex, non-linearly separable data."
      ],
      "metadata": {
        "id": "DTvVtkduXSHq"
      }
    }
  ]
}